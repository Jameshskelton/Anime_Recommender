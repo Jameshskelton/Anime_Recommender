{
 "cells": [
  {
   "cell_type": "code",
   "execution_count": 33,
   "metadata": {},
   "outputs": [
    {
     "data": {
      "application/vnd.jupyter.widget-view+json": {
       "model_id": "8cca46b0a99f4ebb9a27564e53e5076e",
       "version_major": 2,
       "version_minor": 0
      },
      "text/plain": [
       "VBox()"
      ]
     },
     "metadata": {},
     "output_type": "display_data"
    },
    {
     "data": {
      "application/vnd.jupyter.widget-view+json": {
       "model_id": "",
       "version_major": 2,
       "version_minor": 0
      },
      "text/plain": [
       "FloatProgress(value=0.0, bar_style='info', description='Progress:', layout=Layout(height='25px', width='50%'),…"
      ]
     },
     "metadata": {},
     "output_type": "display_data"
    },
    {
     "name": "stderr",
     "output_type": "stream",
     "text": [
      "No module named 'plotly'\n",
      "Traceback (most recent call last):\n",
      "ModuleNotFoundError: No module named 'plotly'\n",
      "\n"
     ]
    }
   ],
   "source": [
    "import pyspark as ps\n",
    "from pyspark.ml.evaluation import RegressionEvaluator\n",
    "from pyspark.ml.recommendation import ALS\n",
    "import pyspark.sql.functions as F\n",
    "from pyspark.sql.types import StructType, StructField\n",
    "from pyspark.sql.types import IntegerType, StringType, FloatType, DateType, TimestampType\n",
    "import pyspark.sql.functions as F\n",
    "from pyspark.mllib.evaluation import RegressionMetrics\n",
    "from pyspark.sql.functions import isnan, when, count, col\n",
    "# import matplotlib.pyplot as plt\n",
    "# from MatrixFactorizationModel"
   ]
  },
  {
   "cell_type": "markdown",
   "metadata": {},
   "source": [
    "# First section: descriptions of datasets used to train model. Winner: final_anime_2.csv"
   ]
  },
  {
   "cell_type": "code",
   "execution_count": 62,
   "metadata": {},
   "outputs": [
    {
     "data": {
      "application/vnd.jupyter.widget-view+json": {
       "model_id": "5777710b8c234795bec2950451d92b48",
       "version_major": 2,
       "version_minor": 0
      },
      "text/plain": [
       "VBox()"
      ]
     },
     "metadata": {},
     "output_type": "display_data"
    },
    {
     "data": {
      "application/vnd.jupyter.widget-view+json": {
       "model_id": "",
       "version_major": 2,
       "version_minor": 0
      },
      "text/plain": [
       "FloatProgress(value=0.0, bar_style='info', description='Progress:', layout=Layout(height='25px', width='50%'),…"
      ]
     },
     "metadata": {},
     "output_type": "display_data"
    }
   ],
   "source": [
    "# tiny test set to try\n",
    "user_test = spark.read.csv('s3://myanimelist-recommender/test_user_profile.csv', header = True)"
   ]
  },
  {
   "cell_type": "code",
   "execution_count": 2,
   "metadata": {},
   "outputs": [
    {
     "data": {
      "application/vnd.jupyter.widget-view+json": {
       "model_id": "8c3d20d8523d43139bbf2086de221150",
       "version_major": 2,
       "version_minor": 0
      },
      "text/plain": [
       "VBox()"
      ]
     },
     "metadata": {},
     "output_type": "display_data"
    },
    {
     "data": {
      "application/vnd.jupyter.widget-view+json": {
       "model_id": "",
       "version_major": 2,
       "version_minor": 0
      },
      "text/plain": [
       "FloatProgress(value=0.0, bar_style='info', description='Progress:', layout=Layout(height='25px', width='50%'),…"
      ]
     },
     "metadata": {},
     "output_type": "display_data"
    },
    {
     "name": "stderr",
     "output_type": "stream",
     "text": [
      "name 'user_test' is not defined\n",
      "Traceback (most recent call last):\n",
      "NameError: name 'user_test' is not defined\n",
      "\n"
     ]
    }
   ],
   "source": [
    "user_test = user_test.withColumn(\"anime_id\", user_test.anime_id.cast(IntegerType()))\n",
    "user_test = user_test.withColumn(\"my_score\", user_test.my_score.cast(IntegerType()))\n",
    "user_test= user_test.withColumn(\"user_id\", user_test.user_id.cast(IntegerType()))\n",
    "user_test = user_test.withColumn(\"stats_mean_score\", user_test.stats_mean_score.cast(FloatType()))\n",
    "# data = data.withColumn(\"my_watched_episodes\", data.my_score.cast(IntegerType()))\n",
    "# data = data.withColumn(\"my_status\", data.my_score.cast(IntegerType()))\n",
    "user_test"
   ]
  },
  {
   "cell_type": "code",
   "execution_count": 22,
   "metadata": {},
   "outputs": [
    {
     "data": {
      "application/vnd.jupyter.widget-view+json": {
       "model_id": "1285594bdebb40c7ba499cdb2bb2aa87",
       "version_major": 2,
       "version_minor": 0
      },
      "text/plain": [
       "VBox()"
      ]
     },
     "metadata": {},
     "output_type": "display_data"
    },
    {
     "data": {
      "application/vnd.jupyter.widget-view+json": {
       "model_id": "",
       "version_major": 2,
       "version_minor": 0
      },
      "text/plain": [
       "FloatProgress(value=0.0, bar_style='info', description='Progress:', layout=Layout(height='25px', width='50%'),…"
      ]
     },
     "metadata": {},
     "output_type": "display_data"
    },
    {
     "name": "stdout",
     "output_type": "stream",
     "text": [
      "+---+--------+--------+--------+-------+----------------+-------------------+---------+\n",
      "|_c0|anime_id|username|my_score|user_id|stats_mean_score|my_watched_episodes|my_status|\n",
      "+---+--------+--------+--------+-------+----------------+-------------------+---------+\n",
      "|  0|      21|karthiga|       9|2255153|            7.43|                586|        1|\n",
      "|  1|      59|karthiga|       7|2255153|            7.43|                 26|        2|\n",
      "|  2|      74|karthiga|       7|2255153|            7.43|                 26|        2|\n",
      "|  3|     120|karthiga|       7|2255153|            7.43|                 26|        2|\n",
      "|  4|     178|karthiga|       7|2255153|            7.43|                 26|        2|\n",
      "|  5|     210|karthiga|       7|2255153|            7.43|                161|        2|\n",
      "|  6|     232|karthiga|       6|2255153|            7.43|                 70|        2|\n",
      "|  7|     233|karthiga|       6|2255153|            7.43|                 78|        2|\n",
      "|  8|     249|karthiga|       8|2255153|            7.43|                167|        2|\n",
      "|  9|     269|karthiga|      10|2255153|            7.43|                366|        2|\n",
      "| 10|     721|karthiga|       7|2255153|            7.43|                 38|        2|\n",
      "| 11|     853|karthiga|       7|2255153|            7.43|                 26|        2|\n",
      "| 12|     857|karthiga|      10|2255153|            7.43|                 25|        2|\n",
      "| 13|     957|karthiga|       8|2255153|            7.43|                 39|        2|\n",
      "| 14|     966|karthiga|      10|2255153|            7.43|                506|        1|\n",
      "| 15|    1557|karthiga|       8|2255153|            7.43|                 26|        2|\n",
      "| 16|    1571|karthiga|       8|2255153|            7.43|                 25|        2|\n",
      "| 17|    1579|karthiga|       9|2255153|            7.43|                 25|        2|\n",
      "| 18|    1698|karthiga|       7|2255153|            7.43|                 23|        2|\n",
      "| 19|    1735|karthiga|       9|2255153|            7.43|                303|        1|\n",
      "+---+--------+--------+--------+-------+----------------+-------------------+---------+\n",
      "only showing top 20 rows"
     ]
    }
   ],
   "source": [
    "# This is data iteration one: it is compprised of 21994566 rows × 8 columns (blank, anime_id, username, user_id, my_score, my_watched_episodes, my_status)\n",
    "# my status 1 - 3 only were used because they indicate 1: watching 2: completed 3: on hold 4: dropped 6: plan to watch\n",
    "# so only 1-3  were what i considered really relevant, as droppers probably dont have fully formed opinions\n",
    "\n",
    "# my_watched episodes was another metric i used to choose who to drop. anybody who had watched less than\n",
    "# 3 episodes of a show likely did not have what i would consider a fully formed opinion so they were dropped.\n",
    "\n",
    "# Furthermore, a large number of these made up the 0 ratings which were in overabundance\n",
    "data = spark.read.csv('s3://myanimelist-recommender/final_anime.csv', header = True)\n",
    "data.show()"
   ]
  },
  {
   "cell_type": "code",
   "execution_count": 5,
   "metadata": {},
   "outputs": [
    {
     "data": {
      "application/vnd.jupyter.widget-view+json": {
       "model_id": "87c27d22181a4856805171bf6e0de958",
       "version_major": 2,
       "version_minor": 0
      },
      "text/plain": [
       "VBox()"
      ]
     },
     "metadata": {},
     "output_type": "display_data"
    },
    {
     "data": {
      "application/vnd.jupyter.widget-view+json": {
       "model_id": "",
       "version_major": 2,
       "version_minor": 0
      },
      "text/plain": [
       "FloatProgress(value=0.0, bar_style='info', description='Progress:', layout=Layout(height='25px', width='50%'),…"
      ]
     },
     "metadata": {},
     "output_type": "display_data"
    },
    {
     "name": "stdout",
     "output_type": "stream",
     "text": [
      "15546712"
     ]
    }
   ],
   "source": [
    "data.count()"
   ]
  },
  {
   "cell_type": "code",
   "execution_count": 22,
   "metadata": {},
   "outputs": [
    {
     "data": {
      "application/vnd.jupyter.widget-view+json": {
       "model_id": "eaf51b0a47074ca9a5e84d8485709819",
       "version_major": 2,
       "version_minor": 0
      },
      "text/plain": [
       "VBox()"
      ]
     },
     "metadata": {},
     "output_type": "display_data"
    },
    {
     "data": {
      "application/vnd.jupyter.widget-view+json": {
       "model_id": "",
       "version_major": 2,
       "version_minor": 0
      },
      "text/plain": [
       "FloatProgress(value=0.0, bar_style='info', description='Progress:', layout=Layout(height='25px', width='50%'),…"
      ]
     },
     "metadata": {},
     "output_type": "display_data"
    },
    {
     "name": "stdout",
     "output_type": "stream",
     "text": [
      "15546712"
     ]
    }
   ],
   "source": [
    "# data iteration 2: it is one with similar conditions to the above, with the addition of\n",
    "# filtering out any user or anime with less than 5 reviews. This will hopefully increase the \n",
    "# overall effectiveness of the model despite removing data\n",
    "data = spark.read.csv('s3://myanimelist-recommender/final_anime_2.csv', header = True)\n",
    "data.count()"
   ]
  },
  {
   "cell_type": "code",
   "execution_count": 23,
   "metadata": {},
   "outputs": [
    {
     "data": {
      "application/vnd.jupyter.widget-view+json": {
       "model_id": "d0c606ce82b041669cacca22e073e614",
       "version_major": 2,
       "version_minor": 0
      },
      "text/plain": [
       "VBox()"
      ]
     },
     "metadata": {},
     "output_type": "display_data"
    },
    {
     "data": {
      "application/vnd.jupyter.widget-view+json": {
       "model_id": "",
       "version_major": 2,
       "version_minor": 0
      },
      "text/plain": [
       "FloatProgress(value=0.0, bar_style='info', description='Progress:', layout=Layout(height='25px', width='50%'),…"
      ]
     },
     "metadata": {},
     "output_type": "display_data"
    },
    {
     "name": "stdout",
     "output_type": "stream",
     "text": [
      "+---+--------+--------+-------+----------------+\n",
      "|_c0|anime_id|my_score|user_id|stats_mean_score|\n",
      "+---+--------+--------+-------+----------------+\n",
      "|  0|      21|       9|2255153|            7.43|\n",
      "|  1|      59|       7|2255153|            7.43|\n",
      "|  2|      74|       7|2255153|            7.43|\n",
      "|  3|     120|       7|2255153|            7.43|\n",
      "|  4|     178|       7|2255153|            7.43|\n",
      "|  5|     210|       7|2255153|            7.43|\n",
      "|  6|     232|       6|2255153|            7.43|\n",
      "|  7|     233|       6|2255153|            7.43|\n",
      "|  8|     249|       8|2255153|            7.43|\n",
      "|  9|     269|      10|2255153|            7.43|\n",
      "| 10|     721|       7|2255153|            7.43|\n",
      "| 11|     853|       7|2255153|            7.43|\n",
      "| 12|     857|      10|2255153|            7.43|\n",
      "| 13|     957|       8|2255153|            7.43|\n",
      "| 14|     966|      10|2255153|            7.43|\n",
      "| 15|    1557|       8|2255153|            7.43|\n",
      "| 16|    1571|       8|2255153|            7.43|\n",
      "| 17|    1579|       9|2255153|            7.43|\n",
      "| 18|    1698|       7|2255153|            7.43|\n",
      "| 19|    1735|       9|2255153|            7.43|\n",
      "+---+--------+--------+-------+----------------+\n",
      "only showing top 20 rows"
     ]
    }
   ],
   "source": [
    "data = data.withColumn(\"anime_id\", data.anime_id.cast(IntegerType()))\n",
    "data = data.withColumn(\"user_id\", data.user_id.cast(IntegerType()))\n",
    "data = data.withColumn(\"my_score\", data.my_score.cast(IntegerType()))\n",
    "data = data.withColumn(\"stats_mean_score\", data.stats_mean_score.cast(FloatType()))\n",
    "# data = data.withColumn(\"my_watched_episodes\", data.my_score.cast(IntegerType()))\n",
    "# data = data.withColumn(\"my_status\", data.my_score.cast(IntegerType()))\n",
    "\n",
    "# data = data.drop('_c0')\n",
    "data.show()"
   ]
  },
  {
   "cell_type": "code",
   "execution_count": null,
   "metadata": {},
   "outputs": [],
   "source": []
  },
  {
   "cell_type": "code",
   "execution_count": 2,
   "metadata": {},
   "outputs": [
    {
     "data": {
      "application/vnd.jupyter.widget-view+json": {
       "model_id": "47658e635aa04351904eb17a39cf7b96",
       "version_major": 2,
       "version_minor": 0
      },
      "text/plain": [
       "VBox()"
      ]
     },
     "metadata": {},
     "output_type": "display_data"
    },
    {
     "data": {
      "application/vnd.jupyter.widget-view+json": {
       "model_id": "",
       "version_major": 2,
       "version_minor": 0
      },
      "text/plain": [
       "FloatProgress(value=0.0, bar_style='info', description='Progress:', layout=Layout(height='25px', width='50%'),…"
      ]
     },
     "metadata": {},
     "output_type": "display_data"
    },
    {
     "name": "stdout",
     "output_type": "stream",
     "text": [
      "15022090"
     ]
    }
   ],
   "source": [
    "# This is data iteration three (final_anime_3.csv). In this, users and anime have been further filtered\n",
    "# only users who have rated >6 and anime that have been rated >6 times are included in this dataset. \n",
    "# otherwise it is the same as iteration 2. \n",
    "data = spark.read.csv('s3://myanimelist-recommender/anime_final_3.csv', header = True)\n",
    "data.count()\n"
   ]
  },
  {
   "cell_type": "code",
   "execution_count": 13,
   "metadata": {},
   "outputs": [
    {
     "data": {
      "application/vnd.jupyter.widget-view+json": {
       "model_id": "d8901c1393d1497ab840f16df9de8452",
       "version_major": 2,
       "version_minor": 0
      },
      "text/plain": [
       "VBox()"
      ]
     },
     "metadata": {},
     "output_type": "display_data"
    },
    {
     "data": {
      "application/vnd.jupyter.widget-view+json": {
       "model_id": "",
       "version_major": 2,
       "version_minor": 0
      },
      "text/plain": [
       "FloatProgress(value=0.0, bar_style='info', description='Progress:', layout=Layout(height='25px', width='50%'),…"
      ]
     },
     "metadata": {},
     "output_type": "display_data"
    },
    {
     "name": "stdout",
     "output_type": "stream",
     "text": [
      "+---+--------+--------+--------+-------+----------------+\n",
      "|_c0|anime_id|username|my_score|user_id|stats_mean_score|\n",
      "+---+--------+--------+--------+-------+----------------+\n",
      "|  0|      21|karthiga|       9|2255153|            7.43|\n",
      "|  1|      59|karthiga|       7|2255153|            7.43|\n",
      "|  2|      74|karthiga|       7|2255153|            7.43|\n",
      "|  3|     120|karthiga|       7|2255153|            7.43|\n",
      "|  4|     178|karthiga|       7|2255153|            7.43|\n",
      "|  5|     210|karthiga|       7|2255153|            7.43|\n",
      "|  6|     232|karthiga|       6|2255153|            7.43|\n",
      "|  7|     233|karthiga|       6|2255153|            7.43|\n",
      "|  8|     249|karthiga|       8|2255153|            7.43|\n",
      "|  9|     269|karthiga|      10|2255153|            7.43|\n",
      "| 10|     721|karthiga|       7|2255153|            7.43|\n",
      "| 11|     853|karthiga|       7|2255153|            7.43|\n",
      "| 12|     857|karthiga|      10|2255153|            7.43|\n",
      "| 13|     957|karthiga|       8|2255153|            7.43|\n",
      "| 14|     966|karthiga|      10|2255153|            7.43|\n",
      "| 15|    1557|karthiga|       8|2255153|            7.43|\n",
      "| 16|    1571|karthiga|       8|2255153|            7.43|\n",
      "| 17|    1579|karthiga|       9|2255153|            7.43|\n",
      "| 18|    1698|karthiga|       7|2255153|            7.43|\n",
      "| 19|    1735|karthiga|       9|2255153|            7.43|\n",
      "+---+--------+--------+--------+-------+----------------+\n",
      "only showing top 20 rows"
     ]
    }
   ],
   "source": [
    "data = data.withColumn(\"anime_id\", data.anime_id.cast(IntegerType()))\n",
    "data = data.withColumn(\"user_id\", data.user_id.cast(IntegerType()))\n",
    "data = data.withColumn(\"my_score\", data.my_score.cast(IntegerType()))\n",
    "data = data.withColumn(\"stats_mean_score\", data.stats_mean_score.cast(FloatType()))\n",
    "# data = data.withColumn(\"my_watched_episodes\", data.my_score.cast(IntegerType()))\n",
    "# data = data.withColumn(\"my_status\", data.my_score.cast(IntegerType()))\n",
    "\n",
    "# data = data.drop('_c0')\n",
    "# data = data.drop('my_watched_episodes')\n",
    "data = data.drop( 'my_status')\n",
    "data.show()\n"
   ]
  },
  {
   "cell_type": "code",
   "execution_count": 18,
   "metadata": {},
   "outputs": [
    {
     "data": {
      "application/vnd.jupyter.widget-view+json": {
       "model_id": "cfc11ecf070144deb882ba2c2112435a",
       "version_major": 2,
       "version_minor": 0
      },
      "text/plain": [
       "VBox()"
      ]
     },
     "metadata": {},
     "output_type": "display_data"
    },
    {
     "data": {
      "application/vnd.jupyter.widget-view+json": {
       "model_id": "",
       "version_major": 2,
       "version_minor": 0
      },
      "text/plain": [
       "FloatProgress(value=0.0, bar_style='info', description='Progress:', layout=Layout(height='25px', width='50%'),…"
      ]
     },
     "metadata": {},
     "output_type": "display_data"
    }
   ],
   "source": [
    "# anime5 - copy of anime2 except\n",
    "# keepies = hope.groupby('anime_id').count()[hope.groupby('anime_id').count()['user_id']>69].index\n",
    "# hope = hope[hope['anime_id'].isin(keepies)]\n",
    "# keepies3 = ratings_user.sort_values(by = 'anime_id', ascending = False)[ratings_user.sort_values(by = 'anime_id',ascending = False)['anime_id'] >13].index\n",
    "# hope = hope[hope['anime_id'].isin(keepies3)]\n",
    "data = spark.read.csv('s3://myanimelist-recommender/anime_final_5.csv', header = True)\n",
    "data = data.withColumn(\"anime_id\", data.anime_id.cast(IntegerType()))\n",
    "data = data.withColumn(\"user_id\", data.user_id.cast(IntegerType()))\n",
    "data = data.withColumn(\"my_score\", data.my_score.cast(IntegerType()))\n",
    "data = data.withColumn(\"stats_mean_score\", data.stats_mean_score.cast(FloatType()))\n"
   ]
  },
  {
   "cell_type": "code",
   "execution_count": null,
   "metadata": {},
   "outputs": [],
   "source": []
  },
  {
   "cell_type": "markdown",
   "metadata": {},
   "source": [
    "# Train-Test-Split and Model"
   ]
  },
  {
   "cell_type": "code",
   "execution_count": 41,
   "metadata": {},
   "outputs": [
    {
     "data": {
      "application/vnd.jupyter.widget-view+json": {
       "model_id": "658976a36e354d5ea2d245f4f7448782",
       "version_major": 2,
       "version_minor": 0
      },
      "text/plain": [
       "VBox()"
      ]
     },
     "metadata": {},
     "output_type": "display_data"
    },
    {
     "data": {
      "application/vnd.jupyter.widget-view+json": {
       "model_id": "",
       "version_major": 2,
       "version_minor": 0
      },
      "text/plain": [
       "FloatProgress(value=0.0, bar_style='info', description='Progress:', layout=Layout(height='25px', width='50%'),…"
      ]
     },
     "metadata": {},
     "output_type": "display_data"
    },
    {
     "name": "stdout",
     "output_type": "stream",
     "text": [
      "12439797"
     ]
    }
   ],
   "source": [
    "training, testing = data.randomSplit([0.8, 0.2])\n",
    "\n",
    "# training = training.drop('_c0')\n",
    "# testing = testing.drop('_c0')\n",
    "training.count()"
   ]
  },
  {
   "cell_type": "code",
   "execution_count": 13,
   "metadata": {},
   "outputs": [
    {
     "data": {
      "application/vnd.jupyter.widget-view+json": {
       "model_id": "2d89e930567248ab859f258c37c8ecc1",
       "version_major": 2,
       "version_minor": 0
      },
      "text/plain": [
       "VBox()"
      ]
     },
     "metadata": {},
     "output_type": "display_data"
    },
    {
     "data": {
      "application/vnd.jupyter.widget-view+json": {
       "model_id": "",
       "version_major": 2,
       "version_minor": 0
      },
      "text/plain": [
       "FloatProgress(value=0.0, bar_style='info', description='Progress:', layout=Layout(height='25px', width='50%'),…"
      ]
     },
     "metadata": {},
     "output_type": "display_data"
    },
    {
     "name": "stdout",
     "output_type": "stream",
     "text": [
      "DataFrame[_c0: string, anime_id: int, my_score: int, user_id: int, stats_mean_score: float]"
     ]
    }
   ],
   "source": [
    "# best split i made, read it in to test things \n",
    "# train = spark.read.csv('s3://myanimelist-recommender/final_anime_2_test.csv/part-00000-b5e9b05f-0841-470b-920b-5403990a8218-c000.csv', header = True)\n",
    "# train.count()\n",
    "\n",
    "# test =spark.read.csv('s3://myanimelist-recommender/test1.csv', header = True) \n",
    "\n",
    "testing"
   ]
  },
  {
   "cell_type": "code",
   "execution_count": null,
   "metadata": {},
   "outputs": [],
   "source": []
  },
  {
   "cell_type": "code",
   "execution_count": 41,
   "metadata": {},
   "outputs": [
    {
     "data": {
      "application/vnd.jupyter.widget-view+json": {
       "model_id": "752488411495431db8447f51162a6428",
       "version_major": 2,
       "version_minor": 0
      },
      "text/plain": [
       "VBox()"
      ]
     },
     "metadata": {},
     "output_type": "display_data"
    },
    {
     "data": {
      "application/vnd.jupyter.widget-view+json": {
       "model_id": "",
       "version_major": 2,
       "version_minor": 0
      },
      "text/plain": [
       "FloatProgress(value=0.0, bar_style='info', description='Progress:', layout=Layout(height='25px', width='50%'),…"
      ]
     },
     "metadata": {},
     "output_type": "display_data"
    }
   ],
   "source": [
    "# for read in train, test\n",
    "train= train.withColumn(\"anime_id\", train.anime_id.cast(IntegerType()))\n",
    "train = train.withColumn(\"user_id\", train.user_id.cast(IntegerType()))\n",
    "train= train.withColumn(\"my_score\", train.my_score.cast(IntegerType()))\n",
    "train= train.withColumn(\"stats_mean_score\", train.stats_mean_score.cast(FloatType()))\n",
    "\n",
    "test = test.withColumn(\"anime_id\", test.anime_id.cast(IntegerType()))\n",
    "test = test.withColumn(\"user_id\", test.user_id.cast(IntegerType()))\n",
    "test = test.withColumn(\"my_score\", test.my_score.cast(IntegerType()))\n",
    "test = test.withColumn(\"stats_mean_score\", test.stats_mean_score.cast(FloatType()))"
   ]
  },
  {
   "cell_type": "code",
   "execution_count": 39,
   "metadata": {},
   "outputs": [
    {
     "data": {
      "application/vnd.jupyter.widget-view+json": {
       "model_id": "40a69aa907c948cbbb27b2f17680abcb",
       "version_major": 2,
       "version_minor": 0
      },
      "text/plain": [
       "VBox()"
      ]
     },
     "metadata": {},
     "output_type": "display_data"
    },
    {
     "data": {
      "application/vnd.jupyter.widget-view+json": {
       "model_id": "",
       "version_major": 2,
       "version_minor": 0
      },
      "text/plain": [
       "FloatProgress(value=0.0, bar_style='info', description='Progress:', layout=Layout(height='25px', width='50%'),…"
      ]
     },
     "metadata": {},
     "output_type": "display_data"
    },
    {
     "name": "stdout",
     "output_type": "stream",
     "text": [
      "+--------+-------+\n",
      "|my_score|  count|\n",
      "+--------+-------+\n",
      "|       1|  40445|\n",
      "|       6|1362717|\n",
      "|       3| 114095|\n",
      "|       5| 624838|\n",
      "|       9|2578781|\n",
      "|       4| 256723|\n",
      "|       8|3513889|\n",
      "|       7|2903623|\n",
      "|      10|1837597|\n",
      "|       2|  61110|\n",
      "|       0|2252894|\n",
      "+--------+-------+"
     ]
    }
   ],
   "source": [
    "# See how similar the my_score is to test set my_score\n",
    "\n",
    "\n",
    "# display(data.select('my_score', 'user_id').groupby('user_id').agg(avg('my_Score')))"
   ]
  },
  {
   "cell_type": "code",
   "execution_count": 44,
   "metadata": {},
   "outputs": [
    {
     "data": {
      "application/vnd.jupyter.widget-view+json": {
       "model_id": "f5b8364f047c46a4902c148375b71e10",
       "version_major": 2,
       "version_minor": 0
      },
      "text/plain": [
       "VBox()"
      ]
     },
     "metadata": {},
     "output_type": "display_data"
    },
    {
     "data": {
      "application/vnd.jupyter.widget-view+json": {
       "model_id": "",
       "version_major": 2,
       "version_minor": 0
      },
      "text/plain": [
       "FloatProgress(value=0.0, bar_style='info', description='Progress:', layout=Layout(height='25px', width='50%'),…"
      ]
     },
     "metadata": {},
     "output_type": "display_data"
    },
    {
     "name": "stdout",
     "output_type": "stream",
     "text": [
      "users in testing: 104548\n",
      "users in both: 104522\n",
      "anime in testing: 3547\n",
      "anime in both: 3531"
     ]
    }
   ],
   "source": [
    "\"\"\"\n",
    "Here i print out the spread of the split. I dont want the testing group and the training groups contents \n",
    "in terms of makeup to be too dissimilar or the recommender will fail to work properly, so this allows\n",
    "me to show it is indeed working\n",
    "\"\"\"\n",
    "# print(\"users in training: {}\".format(training.select('user_id').distinct().count()))\n",
    "print(\"users in testing: {}\".format(testing.select('user_id').distinct().count()))\n",
    "\n",
    "print(\"users in both: {}\".format(training.select('user_id').distinct()\\\n",
    "                                         .join(testing.select('user_id').distinct(),\n",
    "                                               'user_id', 'inner')\\\n",
    "                                         .count()))\n",
    "\n",
    "# print(\"anime in training: {}\".format(training.select('anime_id').distinct().count()))\n",
    "print(\"anime in testing: {}\".format(testing.select('anime_id').distinct().count()))\n",
    "\n",
    "print(\"anime in both: {}\".format(training.select('anime_id').distinct()\\\n",
    "                                         .join(testing.select('anime_id').distinct(),\n",
    "                                               'anime_id', 'inner')\\\n",
    "                                         .count()))"
   ]
  },
  {
   "cell_type": "code",
   "execution_count": 45,
   "metadata": {},
   "outputs": [
    {
     "data": {
      "application/vnd.jupyter.widget-view+json": {
       "model_id": "24e9f56e3e6a4c71a55b7c301c32e431",
       "version_major": 2,
       "version_minor": 0
      },
      "text/plain": [
       "VBox()"
      ]
     },
     "metadata": {},
     "output_type": "display_data"
    },
    {
     "data": {
      "application/vnd.jupyter.widget-view+json": {
       "model_id": "",
       "version_major": 2,
       "version_minor": 0
      },
      "text/plain": [
       "FloatProgress(value=0.0, bar_style='info', description='Progress:', layout=Layout(height='25px', width='50%'),…"
      ]
     },
     "metadata": {},
     "output_type": "display_data"
    }
   ],
   "source": [
    "class AnimeRecommender_loop1():\n",
    "    \"\"\"Loop 1 recommender\n",
    "    Uses ALS out of the box\"\"\"\n",
    "    def fit(self, train_df):\n",
    "        self.als = ALS(rank=200,\n",
    "              maxIter=18,\n",
    "              regParam=0.1,\n",
    "              userCol=\"user_id\",\n",
    "              itemCol=\"anime_id\",\n",
    "              ratingCol=\"my_score\")\n",
    "\n",
    "        self.loop1_model = self.als.fit(train_df)\n",
    "\n",
    "    def transform(self, test_df):\n",
    "        return(self.loop1_model.transform(test_df))\n",
    "\n",
    "\n",
    "class AnimeRecommender_loop2():\n",
    "    \"\"\"Loop 2 recommender \n",
    "    Uses average per anime to fill up NaNs left by ALS\"\"\"\n",
    "    def fit(self, training_df):\n",
    "        self.avg_ratings = training_df.select('anime_id','my_score', 'stats_mean_score')\\\n",
    "                                      .groupBy('anime_id')\\\n",
    "                                      .agg(F.avg('my_score'))\\\n",
    "                                      .withColumnRenamed('avg(my_score)','avg_rating')\n",
    "\n",
    "    def transform(self, requests_df):\n",
    "        return(requests_df.join(self.avg_ratings, 'anime_id', 'left')\\\n",
    "                          .withColumnRenamed('avg_rating','prediction'))\n",
    "\n",
    "\n",
    "class AnimeRecommender(ALS):\n",
    "    \"\"\"Aggregate the results from loop1 and loop2 \"\"\"\n",
    "    def __init__(self):\n",
    "        self.spark = ps.sql.SparkSession.builder \\\n",
    "                    .master(\"local[4]\") \\\n",
    "                    .appName(\"df lecture\") \\\n",
    "                    .getOrCreate()\n",
    "        self.sc = self.spark.sparkContext  # for the pre-2.0 sparkContext\n",
    "        self.ar1 = AnimeRecommender_loop1()\n",
    "        self.ar2 = AnimeRecommender_loop2()\n",
    "\n",
    "\n",
    "    def fit(self, ratings):\n",
    "        \"\"\"\n",
    "        Trains the recommender on a given set of ratings.\n",
    "        Parameters\n",
    "        ----------\n",
    "        ratings : pandas dataframe, shape = (n_ratings, 4)\n",
    "                  with columns 'user', 'movie', 'rating', 'timestamp'\n",
    "        Returns\n",
    "        -------\n",
    "        self : object\n",
    "            Returns self.\n",
    "        \"\"\"\n",
    "        \n",
    "\n",
    "        self.training = ratings\n",
    "        self.training.persist()\n",
    "\n",
    "        self.ar1.fit(self.training)\n",
    "        self.ar2.fit(self.training)\n",
    "\n",
    "        return(self)\n",
    "\n",
    "\n",
    "    def transform(self, requests):\n",
    "        \"\"\"\n",
    "        Predicts the ratings for a given set of requests.\n",
    "        Then fills NaN values with avg. rating of the anime\n",
    "        Parameters\n",
    "        ----------\n",
    "        requests : pandas dataframe, shape = (n_ratings, 2)\n",
    "                  with columns 'user', 'movie'\n",
    "        Returns\n",
    "        -------\n",
    "        dataframe : a *pandas* dataframe with columns 'user', 'movie', 'rating'\n",
    "                    column 'rating' containing the predicted rating\n",
    "        \"\"\"\n",
    "\n",
    "        self.requests = requests\n",
    "\n",
    "        # GET FIRST ROUND PRED\n",
    "        pred_loop1 = self.ar1.transform(self.requests).withColumnRenamed('prediction','prediction_loop1')\n",
    "        # option to show        \n",
    "        # print(pred_loop1.show())\n",
    "\n",
    "        # GET AVERAGES OF VALS TO FILLNA FOR MISSING VALUES AFTER PRED_LOOP1\n",
    "        pred_loop2 = self.ar2.transform(pred_loop1).withColumnRenamed('prediction','prediction_loop2')\n",
    "        #option to show\n",
    "        #  print(pred_loop2.show())\n",
    "\n",
    "        # FILLNA USING PRED_LOOP2. OPTION TO FILLNA WITH USER AVERAGE IF NEEDED\n",
    "\n",
    "        results_loop2 = pred_loop2.withColumn('prediction',F.when(F.isnan('prediction_loop1'),F.col('prediction_loop2')).otherwise(F.col('prediction_loop1')))\n",
    "        \n",
    "        # if you want to see how many Nan's remain, free up 3 lines below\n",
    "\n",
    "        # print(results_loop2.count())\n",
    "        # print(results_loop2.dropna(subset=('prediction_loop1')).count())\n",
    "        # results_loop2 = pred_loop2.withColumn('prediction',F.when(F.isnan('prediction_loop1'),F.col('prediction_loop2')).otherwise(F.col('prediction_loop1')))\n",
    "\n",
    "        predictions = results_loop2.select('user_id', 'anime_id', 'my_score', 'prediction')\\\n",
    "                                   .withColumnRenamed('prediction','rating')\n",
    "        \n",
    "        \n",
    "        # see how many nans lost here and drop them for testing\n",
    "\n",
    "        # print(predictions.count())\n",
    "        preds = predictions.dropna(subset=('rating'))\n",
    "        # print(preds.count())\n",
    "        return preds\n",
    "    \n",
    "    def evaluate(self, predictions):\n",
    "        evaluator = RegressionEvaluator(metricName=\"rmse\", labelCol=\"my_score\",predictionCol=\"rating\")\n",
    "        \n",
    "        rmse = evaluator.evaluate(predictions)\n",
    "        return print(f'the rmse is {rmse}')"
   ]
  },
  {
   "cell_type": "markdown",
   "metadata": {},
   "source": [
    "# Instantiation and training"
   ]
  },
  {
   "cell_type": "code",
   "execution_count": 46,
   "metadata": {},
   "outputs": [
    {
     "data": {
      "application/vnd.jupyter.widget-view+json": {
       "model_id": "835871321f5549ccbfb56f4e0803d1b0",
       "version_major": 2,
       "version_minor": 0
      },
      "text/plain": [
       "VBox()"
      ]
     },
     "metadata": {},
     "output_type": "display_data"
    },
    {
     "data": {
      "application/vnd.jupyter.widget-view+json": {
       "model_id": "",
       "version_major": 2,
       "version_minor": 0
      },
      "text/plain": [
       "FloatProgress(value=0.0, bar_style='info', description='Progress:', layout=Layout(height='25px', width='50%'),…"
      ]
     },
     "metadata": {},
     "output_type": "display_data"
    },
    {
     "name": "stdout",
     "output_type": "stream",
     "text": [
      "+--------+--------+--------+-------+----------------+----------------+-----------------+\n",
      "|anime_id|     _c0|my_score|user_id|stats_mean_score|prediction_loop1| prediction_loop2|\n",
      "+--------+--------+--------+-------+----------------+----------------+-----------------+\n",
      "|     148| 1999863|       6|  91084|            7.16|        6.449814|5.840686274509804|\n",
      "|     148|19000468|       9| 120976|            7.13|        7.184175|5.840686274509804|\n",
      "|     148|15170943|       8|  19701|            7.46|        4.001227|5.840686274509804|\n",
      "|     148| 5340083|      10| 178467|            7.81|        6.204935|5.840686274509804|\n",
      "|     148|11055702|      10|3535317|            10.0|        9.088889|5.840686274509804|\n",
      "|     148|14856483|       0|   1005|             0.0|             0.0|5.840686274509804|\n",
      "|     148| 2662989|       7| 312632|            6.11|       6.6216993|5.840686274509804|\n",
      "|     148|16290231|      10| 316289|            9.31|        8.656877|5.840686274509804|\n",
      "|     148| 8095348|       0|  93466|             9.0|     -0.15079527|5.840686274509804|\n",
      "|     148|13421626|       0|   5926|            8.35|       0.5948551|5.840686274509804|\n",
      "|     148|17262044|       7|  16455|            7.17|        7.116616|5.840686274509804|\n",
      "|     148| 4418295|       9| 168511|            7.68|       6.8238606|5.840686274509804|\n",
      "|     148|17296409|       4| 248005|            8.75|        7.549151|5.840686274509804|\n",
      "|     148|19157901|       9|  38098|            7.21|       6.8429017|5.840686274509804|\n",
      "|     148|15507819|       7| 318987|            5.78|       6.4734063|5.840686274509804|\n",
      "|     148|16320123|       6| 493238|            7.43|       7.2572117|5.840686274509804|\n",
      "|     148| 4543734|       6|  41713|            7.74|        6.099109|5.840686274509804|\n",
      "|     148|17608148|       7|  30144|            8.63|       3.1153982|5.840686274509804|\n",
      "|     148|13563421|       4|  40245|            4.92|        4.461797|5.840686274509804|\n",
      "|     148| 4804383|       0| 291779|            9.57|     -0.27309754|5.840686274509804|\n",
      "+--------+--------+--------+-------+----------------+----------------+-----------------+\n",
      "only showing top 20 rows\n",
      "\n",
      "None\n",
      "3106915\n",
      "3106858\n",
      "3106915\n",
      "3106896\n",
      "Exception ignored in: <object repr() failed>\n",
      "Traceback (most recent call last):\n",
      "  File \"/usr/lib/spark/python/lib/pyspark.zip/pyspark/ml/wrapper.py\", line 40, in __del__\n",
      "AttributeError: 'AnimeRecommender' object has no attribute '_java_obj'"
     ]
    }
   ],
   "source": [
    "ar = AnimeRecommender()\n",
    "x = ar.fit(training)\n",
    "preds = ar.transform(testing)\n"
   ]
  },
  {
   "cell_type": "code",
   "execution_count": 16,
   "metadata": {},
   "outputs": [
    {
     "data": {
      "application/vnd.jupyter.widget-view+json": {
       "model_id": "970e744591c14f72aa56292f74761bee",
       "version_major": 2,
       "version_minor": 0
      },
      "text/plain": [
       "VBox()"
      ]
     },
     "metadata": {},
     "output_type": "display_data"
    },
    {
     "data": {
      "application/vnd.jupyter.widget-view+json": {
       "model_id": "",
       "version_major": 2,
       "version_minor": 0
      },
      "text/plain": [
       "FloatProgress(value=0.0, bar_style='info', description='Progress:', layout=Layout(height='25px', width='50%'),…"
      ]
     },
     "metadata": {},
     "output_type": "display_data"
    },
    {
     "name": "stdout",
     "output_type": "stream",
     "text": [
      "75"
     ]
    }
   ],
   "source": [
    "# count of dropped nans between loop1 and end =  75\n"
   ]
  },
  {
   "cell_type": "code",
   "execution_count": 47,
   "metadata": {},
   "outputs": [
    {
     "data": {
      "application/vnd.jupyter.widget-view+json": {
       "model_id": "149c9206fb8643888d8ab186333beff1",
       "version_major": 2,
       "version_minor": 0
      },
      "text/plain": [
       "VBox()"
      ]
     },
     "metadata": {},
     "output_type": "display_data"
    },
    {
     "data": {
      "application/vnd.jupyter.widget-view+json": {
       "model_id": "",
       "version_major": 2,
       "version_minor": 0
      },
      "text/plain": [
       "FloatProgress(value=0.0, bar_style='info', description='Progress:', layout=Layout(height='25px', width='50%'),…"
      ]
     },
     "metadata": {},
     "output_type": "display_data"
    }
   ],
   "source": [
    "# cvgrid is not working, so ill do tuning by hand in the next cells\n",
    "# evaluator uses root mean square error to see how distant predictions are from scores\n",
    "evaluator = RegressionEvaluator(metricName=\"rmse\", labelCol=\"my_score\",predictionCol=\"rating\")\n",
    "        \n",
    "rmse = evaluator.evaluate(preds)\n"
   ]
  },
  {
   "cell_type": "code",
   "execution_count": 48,
   "metadata": {},
   "outputs": [
    {
     "data": {
      "application/vnd.jupyter.widget-view+json": {
       "model_id": "58b969451f8740cf84e1be6f7778933b",
       "version_major": 2,
       "version_minor": 0
      },
      "text/plain": [
       "VBox()"
      ]
     },
     "metadata": {},
     "output_type": "display_data"
    },
    {
     "data": {
      "application/vnd.jupyter.widget-view+json": {
       "model_id": "",
       "version_major": 2,
       "version_minor": 0
      },
      "text/plain": [
       "FloatProgress(value=0.0, bar_style='info', description='Progress:', layout=Layout(height='25px', width='50%'),…"
      ]
     },
     "metadata": {},
     "output_type": "display_data"
    },
    {
     "name": "stdout",
     "output_type": "stream",
     "text": [
      "2.085884408015234"
     ]
    }
   ],
   "source": [
    "# for anime_final_2: see comments at top\n",
    "# rmse = 2.1254230685892352 rank = 100, maxIter = 10, reg param = .1\n",
    "# rmse = 2.1058600851187363 rank = 100, maxiter = 15, regparam =.1\n",
    "# rmse = 2.0987042601431383 rank = 150, maxiter = 15, regparam = .1\n",
    "# rmse = 1.6232912469115457, rank 200, maxiter 17, regparam .1 <----- huge win, saved these train splits\n",
    "# rmse = 1.6143999936595663, rank 220, maxiter 18, regparam = .1 <------ bigger win, used a different split^\n",
    "# rmse = 2.102241385301613 rank 220, maxiter 18, regoaram .1, ? fluke check on what i thought were same train split as huge win. may have made error recombining in eda file\n",
    "# rmse = 2.0934816014194326, rank 200, maxiter 18, reparam.1, < 25-75 train test split\n",
    "# rmse = 2.1059523655991232 rank 200, maxiter 18 - another attempt, cant recreate early success for unknown reason\n",
    "# rmse = 2.084936624781888 rank 200, maxiter 18 - another attempt,\n",
    "# rmse = 2.083972607916511, rank 200, maxiter 18 - another attempt,\n",
    "# rmse = 2.093279077573417,rank 200, maxiter 18 - another attempt,\n",
    "# rmse = 2.085884408015234. rank 200, maxiter 18 - another attempt"
   ]
  },
  {
   "cell_type": "markdown",
   "metadata": {},
   "source": [
    "## losing sets"
   ]
  },
  {
   "cell_type": "code",
   "execution_count": 81,
   "metadata": {},
   "outputs": [
    {
     "data": {
      "application/vnd.jupyter.widget-view+json": {
       "model_id": "a9179baabe894510bc55c61a43cbd12b",
       "version_major": 2,
       "version_minor": 0
      },
      "text/plain": [
       "VBox()"
      ]
     },
     "metadata": {},
     "output_type": "display_data"
    },
    {
     "data": {
      "application/vnd.jupyter.widget-view+json": {
       "model_id": "",
       "version_major": 2,
       "version_minor": 0
      },
      "text/plain": [
       "FloatProgress(value=0.0, bar_style='info', description='Progress:', layout=Layout(height='25px', width='50%'),…"
      ]
     },
     "metadata": {},
     "output_type": "display_data"
    },
    {
     "name": "stdout",
     "output_type": "stream",
     "text": [
      "2.1800007704960653"
     ]
    }
   ],
   "source": [
    "# for anime_final: see comments above\n",
    "# rmse = 1.8450456842750507 on initial pass of data set, rank = default, maxIter = default, my_status <3, minimum watched >0\n",
    "# ^unrecreatable for some reason\n",
    "# rmse = 2.1858678093919712 on another pass, rank = 100, maxIter = 10, reg param = .1\n",
    "# rmse = 2.175129033735969 on rank = 250, maxIter = 10, regparam = .1\n",
    "# rmse =  2.1712464062761363 on rank 100, maxIter = 15, regparam = .1\n",
    "# rmse = 2.6971824770818507 on rank 100, maxIter = 10, reparam = .01\n",
    "# rmse = 2.1791087286348882, rank 120, maxiter = 11, regparam =.1\n",
    "\n",
    "rmse"
   ]
  },
  {
   "cell_type": "code",
   "execution_count": 24,
   "metadata": {},
   "outputs": [
    {
     "data": {
      "application/vnd.jupyter.widget-view+json": {
       "model_id": "9fbf6cb902d943dab5619e1c08beec3f",
       "version_major": 2,
       "version_minor": 0
      },
      "text/plain": [
       "VBox()"
      ]
     },
     "metadata": {},
     "output_type": "display_data"
    },
    {
     "data": {
      "application/vnd.jupyter.widget-view+json": {
       "model_id": "",
       "version_major": 2,
       "version_minor": 0
      },
      "text/plain": [
       "FloatProgress(value=0.0, bar_style='info', description='Progress:', layout=Layout(height='25px', width='50%'),…"
      ]
     },
     "metadata": {},
     "output_type": "display_data"
    },
    {
     "name": "stdout",
     "output_type": "stream",
     "text": [
      "2.0000903889660986"
     ]
    }
   ],
   "source": [
    "# for final_anime_3: see comments at top\n",
    "# rmse =1.9578590462477  rank 200, maxiter 17, regparam .1\n",
    "# rmse = 2.0000903889660986, rank 100, maxiter 10, regparam .1\n",
    "rmse"
   ]
  },
  {
   "cell_type": "markdown",
   "metadata": {},
   "source": [
    "## Saving things to s3"
   ]
  },
  {
   "cell_type": "code",
   "execution_count": 15,
   "metadata": {},
   "outputs": [
    {
     "data": {
      "application/vnd.jupyter.widget-view+json": {
       "model_id": "337e55970760477da65751a6c30673d5",
       "version_major": 2,
       "version_minor": 0
      },
      "text/plain": [
       "VBox()"
      ]
     },
     "metadata": {},
     "output_type": "display_data"
    },
    {
     "data": {
      "application/vnd.jupyter.widget-view+json": {
       "model_id": "",
       "version_major": 2,
       "version_minor": 0
      },
      "text/plain": [
       "FloatProgress(value=0.0, bar_style='info', description='Progress:', layout=Layout(height='25px', width='50%'),…"
      ]
     },
     "metadata": {},
     "output_type": "display_data"
    }
   ],
   "source": [
    "training=training.repartition(1)\n",
    "training.write.save(\"s3://myanimelist-recommender/final_anime_2_test.csv\", format='csv', header=True)\n",
    "testing = testing.repartition(1)\n",
    "testing.write.save(\"s3://myanimelist-recommender/final_anime_2_train.csv\", format='csv', header=True)"
   ]
  },
  {
   "cell_type": "code",
   "execution_count": 21,
   "metadata": {},
   "outputs": [
    {
     "data": {
      "application/vnd.jupyter.widget-view+json": {
       "model_id": "9e6ab8183c1a4c36b68540f82e7771d4",
       "version_major": 2,
       "version_minor": 0
      },
      "text/plain": [
       "VBox()"
      ]
     },
     "metadata": {},
     "output_type": "display_data"
    },
    {
     "data": {
      "application/vnd.jupyter.widget-view+json": {
       "model_id": "",
       "version_major": 2,
       "version_minor": 0
      },
      "text/plain": [
       "FloatProgress(value=0.0, bar_style='info', description='Progress:', layout=Layout(height='25px', width='50%'),…"
      ]
     },
     "metadata": {},
     "output_type": "display_data"
    }
   ],
   "source": [
    "preds=preds.repartition(1)\n",
    "preds.write.save(\"s3://myanimelist-recommender/predictions_example_2.csv\", format='csv', header=True)"
   ]
  },
  {
   "cell_type": "code",
   "execution_count": 43,
   "metadata": {},
   "outputs": [
    {
     "data": {
      "application/vnd.jupyter.widget-view+json": {
       "model_id": "03540cebcd274b279be5f916b9f4ba79",
       "version_major": 2,
       "version_minor": 0
      },
      "text/plain": [
       "VBox()"
      ]
     },
     "metadata": {},
     "output_type": "display_data"
    },
    {
     "data": {
      "application/vnd.jupyter.widget-view+json": {
       "model_id": "",
       "version_major": 2,
       "version_minor": 0
      },
      "text/plain": [
       "FloatProgress(value=0.0, bar_style='info', description='Progress:', layout=Layout(height='25px', width='50%'),…"
      ]
     },
     "metadata": {},
     "output_type": "display_data"
    }
   ],
   "source": [
    "testing = testing.repartition(1)\n",
    "testing.write.save('s3://myanimelist-recommender/test_set.csv')\n",
    "\n",
    "training = training.repartition(1)\n",
    "training.write.save('s3://myanimelist-recommender/train_set.csv')"
   ]
  },
  {
   "cell_type": "code",
   "execution_count": null,
   "metadata": {},
   "outputs": [],
   "source": [
    "model.save([spark_context], [file_path])\n"
   ]
  }
 ],
 "metadata": {
  "kernelspec": {
   "display_name": "PySpark",
   "language": "",
   "name": "pysparkkernel"
  },
  "language_info": {
   "codemirror_mode": {
    "name": "python",
    "version": 2
   },
   "mimetype": "text/x-python",
   "name": "pyspark",
   "pygments_lexer": "python2"
  }
 },
 "nbformat": 4,
 "nbformat_minor": 4
}
