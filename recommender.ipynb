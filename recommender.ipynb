{
 "cells": [
  {
   "cell_type": "code",
   "execution_count": null,
   "metadata": {},
   "outputs": [
    {
     "data": {
      "application/vnd.jupyter.widget-view+json": {
       "model_id": "f8c30dd1eb76405fa7dd882b44dc9e6f",
       "version_major": 2,
       "version_minor": 0
      },
      "text/plain": [
       "VBox()"
      ]
     },
     "metadata": {},
     "output_type": "display_data"
    },
    {
     "name": "stdout",
     "output_type": "stream",
     "text": [
      "Starting Spark application\n"
     ]
    }
   ],
   "source": [
    "import pyspark as ps\n",
    "from pyspark.ml.evaluation import RegressionEvaluator\n",
    "from pyspark.ml.recommendation import ALS\n",
    "import pyspark.sql.functions as F\n",
    "from pyspark.sql.types import StructType, StructField\n",
    "from pyspark.sql.types import IntegerType, StringType, FloatType, DateType, TimestampType\n",
    "import pyspark.sql.functions as F\n",
    "from pyspark.mllib.evaluation import RegressionMetrics\n",
    "# from MatrixFactorizationModel"
   ]
  },
  {
   "cell_type": "markdown",
   "metadata": {},
   "source": [
    "# First section: descriptions of datasets used to train model. Winner: final_anime_2.csv"
   ]
  },
  {
   "cell_type": "code",
   "execution_count": 62,
   "metadata": {},
   "outputs": [
    {
     "data": {
      "application/vnd.jupyter.widget-view+json": {
       "model_id": "5777710b8c234795bec2950451d92b48",
       "version_major": 2,
       "version_minor": 0
      },
      "text/plain": [
       "VBox()"
      ]
     },
     "metadata": {},
     "output_type": "display_data"
    },
    {
     "data": {
      "application/vnd.jupyter.widget-view+json": {
       "model_id": "",
       "version_major": 2,
       "version_minor": 0
      },
      "text/plain": [
       "FloatProgress(value=0.0, bar_style='info', description='Progress:', layout=Layout(height='25px', width='50%'),…"
      ]
     },
     "metadata": {},
     "output_type": "display_data"
    }
   ],
   "source": [
    "# tiny test set to try\n",
    "user_test = spark.read.csv('s3://myanimelist-recommender/test_user_profile.csv', header = True)"
   ]
  },
  {
   "cell_type": "code",
   "execution_count": 2,
   "metadata": {},
   "outputs": [
    {
     "data": {
      "application/vnd.jupyter.widget-view+json": {
       "model_id": "8c3d20d8523d43139bbf2086de221150",
       "version_major": 2,
       "version_minor": 0
      },
      "text/plain": [
       "VBox()"
      ]
     },
     "metadata": {},
     "output_type": "display_data"
    },
    {
     "data": {
      "application/vnd.jupyter.widget-view+json": {
       "model_id": "",
       "version_major": 2,
       "version_minor": 0
      },
      "text/plain": [
       "FloatProgress(value=0.0, bar_style='info', description='Progress:', layout=Layout(height='25px', width='50%'),…"
      ]
     },
     "metadata": {},
     "output_type": "display_data"
    },
    {
     "name": "stderr",
     "output_type": "stream",
     "text": [
      "name 'user_test' is not defined\n",
      "Traceback (most recent call last):\n",
      "NameError: name 'user_test' is not defined\n",
      "\n"
     ]
    }
   ],
   "source": [
    "user_test = user_test.withColumn(\"anime_id\", user_test.anime_id.cast(IntegerType()))\n",
    "user_test = user_test.withColumn(\"my_score\", user_test.my_score.cast(IntegerType()))\n",
    "user_test= user_test.withColumn(\"user_id\", user_test.user_id.cast(IntegerType()))\n",
    "user_test = user_test.withColumn(\"stats_mean_score\", user_test.stats_mean_score.cast(FloatType()))\n",
    "# data = data.withColumn(\"my_watched_episodes\", data.my_score.cast(IntegerType()))\n",
    "# data = data.withColumn(\"my_status\", data.my_score.cast(IntegerType()))\n",
    "user_test"
   ]
  },
  {
   "cell_type": "code",
   "execution_count": 22,
   "metadata": {},
   "outputs": [
    {
     "data": {
      "application/vnd.jupyter.widget-view+json": {
       "model_id": "1285594bdebb40c7ba499cdb2bb2aa87",
       "version_major": 2,
       "version_minor": 0
      },
      "text/plain": [
       "VBox()"
      ]
     },
     "metadata": {},
     "output_type": "display_data"
    },
    {
     "data": {
      "application/vnd.jupyter.widget-view+json": {
       "model_id": "",
       "version_major": 2,
       "version_minor": 0
      },
      "text/plain": [
       "FloatProgress(value=0.0, bar_style='info', description='Progress:', layout=Layout(height='25px', width='50%'),…"
      ]
     },
     "metadata": {},
     "output_type": "display_data"
    },
    {
     "name": "stdout",
     "output_type": "stream",
     "text": [
      "+---+--------+--------+--------+-------+----------------+-------------------+---------+\n",
      "|_c0|anime_id|username|my_score|user_id|stats_mean_score|my_watched_episodes|my_status|\n",
      "+---+--------+--------+--------+-------+----------------+-------------------+---------+\n",
      "|  0|      21|karthiga|       9|2255153|            7.43|                586|        1|\n",
      "|  1|      59|karthiga|       7|2255153|            7.43|                 26|        2|\n",
      "|  2|      74|karthiga|       7|2255153|            7.43|                 26|        2|\n",
      "|  3|     120|karthiga|       7|2255153|            7.43|                 26|        2|\n",
      "|  4|     178|karthiga|       7|2255153|            7.43|                 26|        2|\n",
      "|  5|     210|karthiga|       7|2255153|            7.43|                161|        2|\n",
      "|  6|     232|karthiga|       6|2255153|            7.43|                 70|        2|\n",
      "|  7|     233|karthiga|       6|2255153|            7.43|                 78|        2|\n",
      "|  8|     249|karthiga|       8|2255153|            7.43|                167|        2|\n",
      "|  9|     269|karthiga|      10|2255153|            7.43|                366|        2|\n",
      "| 10|     721|karthiga|       7|2255153|            7.43|                 38|        2|\n",
      "| 11|     853|karthiga|       7|2255153|            7.43|                 26|        2|\n",
      "| 12|     857|karthiga|      10|2255153|            7.43|                 25|        2|\n",
      "| 13|     957|karthiga|       8|2255153|            7.43|                 39|        2|\n",
      "| 14|     966|karthiga|      10|2255153|            7.43|                506|        1|\n",
      "| 15|    1557|karthiga|       8|2255153|            7.43|                 26|        2|\n",
      "| 16|    1571|karthiga|       8|2255153|            7.43|                 25|        2|\n",
      "| 17|    1579|karthiga|       9|2255153|            7.43|                 25|        2|\n",
      "| 18|    1698|karthiga|       7|2255153|            7.43|                 23|        2|\n",
      "| 19|    1735|karthiga|       9|2255153|            7.43|                303|        1|\n",
      "+---+--------+--------+--------+-------+----------------+-------------------+---------+\n",
      "only showing top 20 rows"
     ]
    }
   ],
   "source": [
    "# This is data iteration one: it is compprised of 21994566 rows × 8 columns (blank, anime_id, username, user_id, my_score, my_watched_episodes, my_status)\n",
    "# my status 1 - 3 only were used because they indicate 1: watching 2: completed 3: on hold 4: dropped 6: plan to watch\n",
    "# so only 1-3  were what i considered really relevant, as droppers probably dont have fully formed opinions\n",
    "\n",
    "# my_watched episodes was another metric i used to choose who to drop. anybody who had watched less than\n",
    "# 3 episodes of a show likely did not have what i would consider a fully formed opinion so they were dropped.\n",
    "\n",
    "# Furthermore, a large number of these made up the 0 ratings which were in overabundance\n",
    "data = spark.read.csv('s3://myanimelist-recommender/final_anime.csv', header = True)\n",
    "data.show()"
   ]
  },
  {
   "cell_type": "code",
   "execution_count": 5,
   "metadata": {},
   "outputs": [
    {
     "data": {
      "application/vnd.jupyter.widget-view+json": {
       "model_id": "87c27d22181a4856805171bf6e0de958",
       "version_major": 2,
       "version_minor": 0
      },
      "text/plain": [
       "VBox()"
      ]
     },
     "metadata": {},
     "output_type": "display_data"
    },
    {
     "data": {
      "application/vnd.jupyter.widget-view+json": {
       "model_id": "",
       "version_major": 2,
       "version_minor": 0
      },
      "text/plain": [
       "FloatProgress(value=0.0, bar_style='info', description='Progress:', layout=Layout(height='25px', width='50%'),…"
      ]
     },
     "metadata": {},
     "output_type": "display_data"
    },
    {
     "name": "stdout",
     "output_type": "stream",
     "text": [
      "15546712"
     ]
    }
   ],
   "source": [
    "data.count()"
   ]
  },
  {
   "cell_type": "code",
   "execution_count": 77,
   "metadata": {},
   "outputs": [
    {
     "data": {
      "application/vnd.jupyter.widget-view+json": {
       "model_id": "a70dd28014df4ecb8f8022f5cc50bdc5",
       "version_major": 2,
       "version_minor": 0
      },
      "text/plain": [
       "VBox()"
      ]
     },
     "metadata": {},
     "output_type": "display_data"
    },
    {
     "data": {
      "application/vnd.jupyter.widget-view+json": {
       "model_id": "",
       "version_major": 2,
       "version_minor": 0
      },
      "text/plain": [
       "FloatProgress(value=0.0, bar_style='info', description='Progress:', layout=Layout(height='25px', width='50%'),…"
      ]
     },
     "metadata": {},
     "output_type": "display_data"
    },
    {
     "name": "stdout",
     "output_type": "stream",
     "text": [
      "15546712"
     ]
    }
   ],
   "source": [
    "# data iteration 2: it is one with similar conditions to the above, with the addition of\n",
    "# filtering out any user or anime with less than 5 reviews. This will hopefully increase the \n",
    "# overall effectiveness of the model despite removing data\n",
    "data = spark.read.csv('s3://myanimelist-recommender/final_anime_2.csv', header = True)\n",
    "data.count()"
   ]
  },
  {
   "cell_type": "code",
   "execution_count": 78,
   "metadata": {},
   "outputs": [
    {
     "data": {
      "application/vnd.jupyter.widget-view+json": {
       "model_id": "4f312f21a3fd47b08d38eea9f2e5a2e0",
       "version_major": 2,
       "version_minor": 0
      },
      "text/plain": [
       "VBox()"
      ]
     },
     "metadata": {},
     "output_type": "display_data"
    },
    {
     "data": {
      "application/vnd.jupyter.widget-view+json": {
       "model_id": "",
       "version_major": 2,
       "version_minor": 0
      },
      "text/plain": [
       "FloatProgress(value=0.0, bar_style='info', description='Progress:', layout=Layout(height='25px', width='50%'),…"
      ]
     },
     "metadata": {},
     "output_type": "display_data"
    },
    {
     "name": "stdout",
     "output_type": "stream",
     "text": [
      "+---+--------+--------+-------+----------------+\n",
      "|_c0|anime_id|my_score|user_id|stats_mean_score|\n",
      "+---+--------+--------+-------+----------------+\n",
      "|  0|      21|       9|2255153|            7.43|\n",
      "|  1|      59|       7|2255153|            7.43|\n",
      "|  2|      74|       7|2255153|            7.43|\n",
      "|  3|     120|       7|2255153|            7.43|\n",
      "|  4|     178|       7|2255153|            7.43|\n",
      "|  5|     210|       7|2255153|            7.43|\n",
      "|  6|     232|       6|2255153|            7.43|\n",
      "|  7|     233|       6|2255153|            7.43|\n",
      "|  8|     249|       8|2255153|            7.43|\n",
      "|  9|     269|      10|2255153|            7.43|\n",
      "| 10|     721|       7|2255153|            7.43|\n",
      "| 11|     853|       7|2255153|            7.43|\n",
      "| 12|     857|      10|2255153|            7.43|\n",
      "| 13|     957|       8|2255153|            7.43|\n",
      "| 14|     966|      10|2255153|            7.43|\n",
      "| 15|    1557|       8|2255153|            7.43|\n",
      "| 16|    1571|       8|2255153|            7.43|\n",
      "| 17|    1579|       9|2255153|            7.43|\n",
      "| 18|    1698|       7|2255153|            7.43|\n",
      "| 19|    1735|       9|2255153|            7.43|\n",
      "+---+--------+--------+-------+----------------+\n",
      "only showing top 20 rows"
     ]
    }
   ],
   "source": [
    "data = data.withColumn(\"anime_id\", data.anime_id.cast(IntegerType()))\n",
    "data = data.withColumn(\"user_id\", data.user_id.cast(IntegerType()))\n",
    "data = data.withColumn(\"my_score\", data.my_score.cast(IntegerType()))\n",
    "data = data.withColumn(\"stats_mean_score\", data.stats_mean_score.cast(FloatType()))\n",
    "# data = data.withColumn(\"my_watched_episodes\", data.my_score.cast(IntegerType()))\n",
    "# data = data.withColumn(\"my_status\", data.my_score.cast(IntegerType()))\n",
    "\n",
    "# data = data.drop('_c0')\n",
    "data.show()"
   ]
  },
  {
   "cell_type": "code",
   "execution_count": 2,
   "metadata": {},
   "outputs": [
    {
     "data": {
      "application/vnd.jupyter.widget-view+json": {
       "model_id": "47658e635aa04351904eb17a39cf7b96",
       "version_major": 2,
       "version_minor": 0
      },
      "text/plain": [
       "VBox()"
      ]
     },
     "metadata": {},
     "output_type": "display_data"
    },
    {
     "data": {
      "application/vnd.jupyter.widget-view+json": {
       "model_id": "",
       "version_major": 2,
       "version_minor": 0
      },
      "text/plain": [
       "FloatProgress(value=0.0, bar_style='info', description='Progress:', layout=Layout(height='25px', width='50%'),…"
      ]
     },
     "metadata": {},
     "output_type": "display_data"
    },
    {
     "name": "stdout",
     "output_type": "stream",
     "text": [
      "15022090"
     ]
    }
   ],
   "source": [
    "# This is data iteration three (final_anime_3.csv). In this, users and anime have been further filtered\n",
    "# only users who have rated >6 and anime that have been rated >6 times are included in this dataset. \n",
    "# otherwise it is the same as iteration 2. \n",
    "data = spark.read.csv('s3://myanimelist-recommender/anime_final_3.csv', header = True)\n",
    "data.count()\n"
   ]
  },
  {
   "cell_type": "code",
   "execution_count": 13,
   "metadata": {},
   "outputs": [
    {
     "data": {
      "application/vnd.jupyter.widget-view+json": {
       "model_id": "d8901c1393d1497ab840f16df9de8452",
       "version_major": 2,
       "version_minor": 0
      },
      "text/plain": [
       "VBox()"
      ]
     },
     "metadata": {},
     "output_type": "display_data"
    },
    {
     "data": {
      "application/vnd.jupyter.widget-view+json": {
       "model_id": "",
       "version_major": 2,
       "version_minor": 0
      },
      "text/plain": [
       "FloatProgress(value=0.0, bar_style='info', description='Progress:', layout=Layout(height='25px', width='50%'),…"
      ]
     },
     "metadata": {},
     "output_type": "display_data"
    },
    {
     "name": "stdout",
     "output_type": "stream",
     "text": [
      "+---+--------+--------+--------+-------+----------------+\n",
      "|_c0|anime_id|username|my_score|user_id|stats_mean_score|\n",
      "+---+--------+--------+--------+-------+----------------+\n",
      "|  0|      21|karthiga|       9|2255153|            7.43|\n",
      "|  1|      59|karthiga|       7|2255153|            7.43|\n",
      "|  2|      74|karthiga|       7|2255153|            7.43|\n",
      "|  3|     120|karthiga|       7|2255153|            7.43|\n",
      "|  4|     178|karthiga|       7|2255153|            7.43|\n",
      "|  5|     210|karthiga|       7|2255153|            7.43|\n",
      "|  6|     232|karthiga|       6|2255153|            7.43|\n",
      "|  7|     233|karthiga|       6|2255153|            7.43|\n",
      "|  8|     249|karthiga|       8|2255153|            7.43|\n",
      "|  9|     269|karthiga|      10|2255153|            7.43|\n",
      "| 10|     721|karthiga|       7|2255153|            7.43|\n",
      "| 11|     853|karthiga|       7|2255153|            7.43|\n",
      "| 12|     857|karthiga|      10|2255153|            7.43|\n",
      "| 13|     957|karthiga|       8|2255153|            7.43|\n",
      "| 14|     966|karthiga|      10|2255153|            7.43|\n",
      "| 15|    1557|karthiga|       8|2255153|            7.43|\n",
      "| 16|    1571|karthiga|       8|2255153|            7.43|\n",
      "| 17|    1579|karthiga|       9|2255153|            7.43|\n",
      "| 18|    1698|karthiga|       7|2255153|            7.43|\n",
      "| 19|    1735|karthiga|       9|2255153|            7.43|\n",
      "+---+--------+--------+--------+-------+----------------+\n",
      "only showing top 20 rows"
     ]
    }
   ],
   "source": [
    "data = data.withColumn(\"anime_id\", data.anime_id.cast(IntegerType()))\n",
    "data = data.withColumn(\"user_id\", data.user_id.cast(IntegerType()))\n",
    "data = data.withColumn(\"my_score\", data.my_score.cast(IntegerType()))\n",
    "data = data.withColumn(\"stats_mean_score\", data.stats_mean_score.cast(FloatType()))\n",
    "# data = data.withColumn(\"my_watched_episodes\", data.my_score.cast(IntegerType()))\n",
    "# data = data.withColumn(\"my_status\", data.my_score.cast(IntegerType()))\n",
    "\n",
    "# data = data.drop('_c0')\n",
    "# data = data.drop('my_watched_episodes')\n",
    "data = data.drop( 'my_status')\n",
    "data.show()\n"
   ]
  },
  {
   "cell_type": "code",
   "execution_count": null,
   "metadata": {},
   "outputs": [
    {
     "data": {
      "application/vnd.jupyter.widget-view+json": {
       "model_id": "e8f76f906dd2429abc427c0966b841a6",
       "version_major": 2,
       "version_minor": 0
      },
      "text/plain": [
       "VBox()"
      ]
     },
     "metadata": {},
     "output_type": "display_data"
    },
    {
     "name": "stdout",
     "output_type": "stream",
     "text": [
      "Starting Spark application\n"
     ]
    },
    {
     "data": {
      "text/html": [
       "<table>\n",
       "<tr><th>ID</th><th>YARN Application ID</th><th>Kind</th><th>State</th><th>Spark UI</th><th>Driver log</th><th>Current session?</th></tr><tr><td>18</td><td>application_1582822548125_0021</td><td>pyspark</td><td>idle</td><td><a target=\"_blank\" href=\"http://ip-172-31-16-159.us-east-2.compute.internal:20888/proxy/application_1582822548125_0021/\">Link</a></td><td><a target=\"_blank\" href=\"http://ip-172-31-27-31.us-east-2.compute.internal:8042/node/containerlogs/container_1582822548125_0021_01_000001/livy\">Link</a></td><td>✔</td></tr></table>"
      ],
      "text/plain": [
       "<IPython.core.display.HTML object>"
      ]
     },
     "metadata": {},
     "output_type": "display_data"
    },
    {
     "data": {
      "application/vnd.jupyter.widget-view+json": {
       "model_id": "",
       "version_major": 2,
       "version_minor": 0
      },
      "text/plain": [
       "FloatProgress(value=0.0, bar_style='info', description='Progress:', layout=Layout(height='25px', width='50%'),…"
      ]
     },
     "metadata": {},
     "output_type": "display_data"
    },
    {
     "name": "stdout",
     "output_type": "stream",
     "text": [
      "SparkSession available as 'spark'.\n"
     ]
    },
    {
     "data": {
      "application/vnd.jupyter.widget-view+json": {
       "model_id": "b248e38ab4d44f83889f3021099c5d52",
       "version_major": 2,
       "version_minor": 0
      },
      "text/plain": [
       "FloatProgress(value=0.0, bar_style='info', description='Progress:', layout=Layout(height='25px', width='50%'),…"
      ]
     },
     "metadata": {},
     "output_type": "display_data"
    }
   ],
   "source": [
    "# anime5 - copy of anime2 except\n",
    "# keepies = hope.groupby('anime_id').count()[hope.groupby('anime_id').count()['user_id']>69].index\n",
    "# hope = hope[hope['anime_id'].isin(keepies)]\n",
    "# keepies3 = ratings_user.sort_values(by = 'anime_id', ascending = False)[ratings_user.sort_values(by = 'anime_id',ascending = False)['anime_id'] >13].index\n",
    "# hope = hope[hope['anime_id'].isin(keepies3)]\n",
    "data = spark.read.csv('s3://myanimelist-recommender/anime_final_5.csv', header = True)\n",
    "data = data.withColumn(\"anime_id\", data.anime_id.cast(IntegerType()))\n",
    "data = data.withColumn(\"user_id\", data.user_id.cast(IntegerType()))\n",
    "data = data.withColumn(\"my_score\", data.my_score.cast(IntegerType()))\n",
    "data = data.withColumn(\"stats_mean_score\", data.stats_mean_score.cast(FloatType()))\n"
   ]
  },
  {
   "cell_type": "code",
   "execution_count": null,
   "metadata": {},
   "outputs": [],
   "source": []
  },
  {
   "cell_type": "markdown",
   "metadata": {},
   "source": [
    "# Train-Test-Split and Model"
   ]
  },
  {
   "cell_type": "code",
   "execution_count": 82,
   "metadata": {},
   "outputs": [
    {
     "data": {
      "application/vnd.jupyter.widget-view+json": {
       "model_id": "8e30b04d89714b08b1c62fcf47d9e2ff",
       "version_major": 2,
       "version_minor": 0
      },
      "text/plain": [
       "VBox()"
      ]
     },
     "metadata": {},
     "output_type": "display_data"
    },
    {
     "data": {
      "application/vnd.jupyter.widget-view+json": {
       "model_id": "",
       "version_major": 2,
       "version_minor": 0
      },
      "text/plain": [
       "FloatProgress(value=0.0, bar_style='info', description='Progress:', layout=Layout(height='25px', width='50%'),…"
      ]
     },
     "metadata": {},
     "output_type": "display_data"
    },
    {
     "name": "stdout",
     "output_type": "stream",
     "text": [
      "12436804"
     ]
    }
   ],
   "source": [
    "training, testing = data.randomSplit([0.8, 0.2])\n",
    "\n",
    "# training = training.drop('_c0')\n",
    "# testing = testing.drop('_c0')\n",
    "training.count()"
   ]
  },
  {
   "cell_type": "code",
   "execution_count": 54,
   "metadata": {},
   "outputs": [
    {
     "data": {
      "application/vnd.jupyter.widget-view+json": {
       "model_id": "54c465c1150e4ee8ae9bdb3020279f3f",
       "version_major": 2,
       "version_minor": 0
      },
      "text/plain": [
       "VBox()"
      ]
     },
     "metadata": {},
     "output_type": "display_data"
    },
    {
     "data": {
      "application/vnd.jupyter.widget-view+json": {
       "model_id": "",
       "version_major": 2,
       "version_minor": 0
      },
      "text/plain": [
       "FloatProgress(value=0.0, bar_style='info', description='Progress:', layout=Layout(height='25px', width='50%'),…"
      ]
     },
     "metadata": {},
     "output_type": "display_data"
    },
    {
     "name": "stdout",
     "output_type": "stream",
     "text": [
      "DataFrame[_c0: string, anime_id: int, my_score: int, user_id: int, stats_mean_score: float]"
     ]
    }
   ],
   "source": [
    "# best split i made \n",
    "# train = spark.read.csv('s3://myanimelist-recommender/final_anime_2_test.csv/part-00000-b5e9b05f-0841-470b-920b-5403990a8218-c000.csv', header = True)\n",
    "# train.count()\n",
    "\n",
    "# test =spark.read.csv('s3://myanimelist-recommender/test1.csv', header = True) \n",
    "\n",
    "test"
   ]
  },
  {
   "cell_type": "code",
   "execution_count": 41,
   "metadata": {},
   "outputs": [
    {
     "data": {
      "application/vnd.jupyter.widget-view+json": {
       "model_id": "752488411495431db8447f51162a6428",
       "version_major": 2,
       "version_minor": 0
      },
      "text/plain": [
       "VBox()"
      ]
     },
     "metadata": {},
     "output_type": "display_data"
    },
    {
     "data": {
      "application/vnd.jupyter.widget-view+json": {
       "model_id": "",
       "version_major": 2,
       "version_minor": 0
      },
      "text/plain": [
       "FloatProgress(value=0.0, bar_style='info', description='Progress:', layout=Layout(height='25px', width='50%'),…"
      ]
     },
     "metadata": {},
     "output_type": "display_data"
    }
   ],
   "source": [
    "train= train.withColumn(\"anime_id\", train.anime_id.cast(IntegerType()))\n",
    "train = train.withColumn(\"user_id\", train.user_id.cast(IntegerType()))\n",
    "train= train.withColumn(\"my_score\", train.my_score.cast(IntegerType()))\n",
    "train= train.withColumn(\"stats_mean_score\", train.stats_mean_score.cast(FloatType()))\n",
    "\n",
    "test = test.withColumn(\"anime_id\", test.anime_id.cast(IntegerType()))\n",
    "test = test.withColumn(\"user_id\", test.user_id.cast(IntegerType()))\n",
    "test = test.withColumn(\"my_score\", test.my_score.cast(IntegerType()))\n",
    "test = test.withColumn(\"stats_mean_score\", test.stats_mean_score.cast(FloatType()))"
   ]
  },
  {
   "cell_type": "code",
   "execution_count": 84,
   "metadata": {},
   "outputs": [
    {
     "data": {
      "application/vnd.jupyter.widget-view+json": {
       "model_id": "5625573d0614408ebf5bd91de9818045",
       "version_major": 2,
       "version_minor": 0
      },
      "text/plain": [
       "VBox()"
      ]
     },
     "metadata": {},
     "output_type": "display_data"
    },
    {
     "data": {
      "application/vnd.jupyter.widget-view+json": {
       "model_id": "",
       "version_major": 2,
       "version_minor": 0
      },
      "text/plain": [
       "FloatProgress(value=0.0, bar_style='info', description='Progress:', layout=Layout(height='25px', width='50%'),…"
      ]
     },
     "metadata": {},
     "output_type": "display_data"
    },
    {
     "name": "stdout",
     "output_type": "stream",
     "text": [
      "users in testing: 104566\n",
      "users in both: 104536\n",
      "anime in testing: 3534\n",
      "anime in both: 3520"
     ]
    }
   ],
   "source": [
    "\"\"\"\n",
    "Here i print out the spread of the split. I dont want the testing group and the training groups contents \n",
    "in terms of makeup to be too dissimilar or the recommender will fail to work properly, so this allows\n",
    "me to show it is indeed working\n",
    "\"\"\"\n",
    "# print(\"users in training: {}\".format(training.select('user_id').distinct().count()))\n",
    "print(\"users in testing: {}\".format(testing.select('user_id').distinct().count()))\n",
    "\n",
    "print(\"users in both: {}\".format(training.select('user_id').distinct()\\\n",
    "                                         .join(testing.select('user_id').distinct(),\n",
    "                                               'user_id', 'inner')\\\n",
    "                                         .count()))\n",
    "\n",
    "# print(\"anime in training: {}\".format(training.select('anime_id').distinct().count()))\n",
    "print(\"anime in testing: {}\".format(testing.select('anime_id').distinct().count()))\n",
    "\n",
    "print(\"anime in both: {}\".format(training.select('anime_id').distinct()\\\n",
    "                                         .join(testing.select('anime_id').distinct(),\n",
    "                                               'anime_id', 'inner')\\\n",
    "                                         .count()))"
   ]
  },
  {
   "cell_type": "code",
   "execution_count": 85,
   "metadata": {},
   "outputs": [
    {
     "data": {
      "application/vnd.jupyter.widget-view+json": {
       "model_id": "cc7f8883e1a842d6b5d5cfed36b7d9ee",
       "version_major": 2,
       "version_minor": 0
      },
      "text/plain": [
       "VBox()"
      ]
     },
     "metadata": {},
     "output_type": "display_data"
    },
    {
     "data": {
      "application/vnd.jupyter.widget-view+json": {
       "model_id": "",
       "version_major": 2,
       "version_minor": 0
      },
      "text/plain": [
       "FloatProgress(value=0.0, bar_style='info', description='Progress:', layout=Layout(height='25px', width='50%'),…"
      ]
     },
     "metadata": {},
     "output_type": "display_data"
    }
   ],
   "source": [
    "class AnimeRecommender_loop1():\n",
    "    \"\"\"Loop 1 recommender\n",
    "    Uses ALS out of the box\"\"\"\n",
    "    def fit(self, train_df):\n",
    "        self.als = ALS(rank=200,\n",
    "              maxIter=18,\n",
    "              regParam=0.1,\n",
    "              userCol=\"user_id\",\n",
    "              itemCol=\"anime_id\",\n",
    "              ratingCol=\"my_score\")\n",
    "\n",
    "        self.loop1_model = self.als.fit(train_df)\n",
    "\n",
    "    def transform(self, test_df):\n",
    "        return(self.loop1_model.transform(test_df))\n",
    "\n",
    "\n",
    "class AnimeRecommender_loop2():\n",
    "    \"\"\"Loop 2 recommender \n",
    "    Uses average per anime to fill up NaNs left by ALS\"\"\"\n",
    "    def fit(self, training_df):\n",
    "        self.avg_ratings = training_df.select('anime_id','my_score', 'stats_mean_score')\\\n",
    "                                      .groupBy('anime_id')\\\n",
    "                                      .agg(F.avg('my_score'))\\\n",
    "                                      .withColumnRenamed('avg(my_score)','avg_rating')\n",
    "\n",
    "    def transform(self, requests_df):\n",
    "        return(requests_df.join(self.avg_ratings, 'anime_id', 'left')\\\n",
    "                          .withColumnRenamed('avg_rating','prediction'))\n",
    "\n",
    "\n",
    "class AnimeRecommender(ALS):\n",
    "    \"\"\"Aggregate the results from loop1 and loop2 \"\"\"\n",
    "    def __init__(self):\n",
    "        self.spark = ps.sql.SparkSession.builder \\\n",
    "                    .master(\"local[4]\") \\\n",
    "                    .appName(\"df lecture\") \\\n",
    "                    .getOrCreate()\n",
    "        self.sc = self.spark.sparkContext  # for the pre-2.0 sparkContext\n",
    "        self.ar1 = AnimeRecommender_loop1()\n",
    "        self.ar2 = AnimeRecommender_loop2()\n",
    "\n",
    "\n",
    "    def fit(self, ratings):\n",
    "        \"\"\"\n",
    "        Trains the recommender on a given set of ratings.\n",
    "        Parameters\n",
    "        ----------\n",
    "        ratings : pandas dataframe, shape = (n_ratings, 4)\n",
    "                  with columns 'user', 'movie', 'rating', 'timestamp'\n",
    "        Returns\n",
    "        -------\n",
    "        self : object\n",
    "            Returns self.\n",
    "        \"\"\"\n",
    "        \n",
    "\n",
    "#         self.training = self.spark.createDataFrame(ratings)\n",
    "        self.training = ratings\n",
    "\n",
    "        self.training.persist()\n",
    "\n",
    "        self.ar1.fit(self.training)\n",
    "        self.ar2.fit(self.training)\n",
    "\n",
    "#         self.logger.debug(\"finishing fit\")\n",
    "        return(self)\n",
    "\n",
    "\n",
    "    def transform(self, requests):\n",
    "        \"\"\"\n",
    "        Predicts the ratings for a given set of requests.\n",
    "        Then fills NaN values with avg. rating of the anime\n",
    "        Parameters\n",
    "        ----------\n",
    "        requests : pandas dataframe, shape = (n_ratings, 2)\n",
    "                  with columns 'user', 'movie'\n",
    "        Returns\n",
    "        -------\n",
    "        dataframe : a *pandas* dataframe with columns 'user', 'movie', 'rating'\n",
    "                    column 'rating' containing the predicted rating\n",
    "        \"\"\"\n",
    "\n",
    "        self.requests = requests\n",
    "\n",
    "        # GET FIRST ROUND PRED\n",
    "        pred_loop1 = self.ar1.transform(self.requests).withColumnRenamed('prediction','prediction_loop1')\n",
    "#         print(pred_loop1.show())\n",
    "\n",
    "        # GET AVERAGES OF VALS TO FILLNA FOR MISSING VALUES AFTER PRED_LOOP1\n",
    "        pred_loop2 = self.ar2.transform(pred_loop1).withColumnRenamed('prediction','prediction_loop2')\n",
    "#         print(pred_loop2.show())\n",
    "\n",
    "        # FILLNA USING PRED_LOOP2. OPTION TO FILLNA WITH USER AVERAGE IF NEEDED\n",
    "\n",
    "        results_loop2 = pred_loop2.withColumn('prediction',F.when(F.isnan('prediction_loop1'),F.col('prediction_loop2')).otherwise(F.col('prediction_loop1')))\n",
    "#         results_loop2 = pred_loop2.withColumn('prediction',F.when(F.isnan('prediction_loop1'),F.col('stats_mean_score')).otherwise(F.col('prediction_loop1')))\n",
    "#         print(results_loop2.show())\n",
    "       \n",
    "        predictions = results_loop2.select('user_id', 'anime_id', 'my_score', 'prediction')\\\n",
    "                                   .withColumnRenamed('prediction','rating')\n",
    "\n",
    "        return(predictions)\n",
    "    \n",
    "    def evaluate(self, predictions):\n",
    "        evaluator = RegressionEvaluator(metricName=\"rmse\", labelCol=\"my_score\",predictionCol=\"rating\")\n",
    "        \n",
    "        rmse = evaluator.evaluate(predictions)\n",
    "        return print(f'the rmse is {rmse}')"
   ]
  },
  {
   "cell_type": "markdown",
   "metadata": {},
   "source": [
    "# Instantiation and training"
   ]
  },
  {
   "cell_type": "code",
   "execution_count": 86,
   "metadata": {},
   "outputs": [
    {
     "data": {
      "application/vnd.jupyter.widget-view+json": {
       "model_id": "42e88ade9fa544d698cb5fbb7968d16c",
       "version_major": 2,
       "version_minor": 0
      },
      "text/plain": [
       "VBox()"
      ]
     },
     "metadata": {},
     "output_type": "display_data"
    },
    {
     "data": {
      "application/vnd.jupyter.widget-view+json": {
       "model_id": "",
       "version_major": 2,
       "version_minor": 0
      },
      "text/plain": [
       "FloatProgress(value=0.0, bar_style='info', description='Progress:', layout=Layout(height='25px', width='50%'),…"
      ]
     },
     "metadata": {},
     "output_type": "display_data"
    },
    {
     "name": "stdout",
     "output_type": "stream",
     "text": [
      "Exception ignored in: <object repr() failed>\n",
      "Traceback (most recent call last):\n",
      "  File \"/usr/lib/spark/python/lib/pyspark.zip/pyspark/ml/wrapper.py\", line 40, in __del__\n",
      "AttributeError: 'AnimeRecommender' object has no attribute '_java_obj'"
     ]
    }
   ],
   "source": [
    "ar = AnimeRecommender()\n",
    "x = ar.fit(training)\n",
    "preds = ar.transform(testing)\n"
   ]
  },
  {
   "cell_type": "code",
   "execution_count": null,
   "metadata": {},
   "outputs": [
    {
     "data": {
      "application/vnd.jupyter.widget-view+json": {
       "model_id": "73d4c2b7f05245d487b43b490d8a1967",
       "version_major": 2,
       "version_minor": 0
      },
      "text/plain": [
       "VBox()"
      ]
     },
     "metadata": {},
     "output_type": "display_data"
    },
    {
     "data": {
      "application/vnd.jupyter.widget-view+json": {
       "model_id": "38b52b2de75649d997addb21f86c8dfa",
       "version_major": 2,
       "version_minor": 0
      },
      "text/plain": [
       "FloatProgress(value=0.0, bar_style='info', description='Progress:', layout=Layout(height='25px', width='50%'),…"
      ]
     },
     "metadata": {},
     "output_type": "display_data"
    }
   ],
   "source": [
    "#just in case, dropna on rating to get rmse \n",
    "print(preds.count())\n",
    "preds = preds.dropna(subset=('rating'))\n",
    "print(preds.count())\n",
    "preds.show()"
   ]
  },
  {
   "cell_type": "code",
   "execution_count": null,
   "metadata": {},
   "outputs": [],
   "source": [
    "# cvgrid is not working, so ill do tuning by hand in the next cells\n",
    "# evaluator uses root mean square error to see how distant predictions are from scores\n",
    "evaluator = RegressionEvaluator(metricName=\"rmse\", labelCol=\"my_score\",predictionCol=\"rating\")\n",
    "        \n",
    "rmse = evaluator.evaluate(preds)\n"
   ]
  },
  {
   "cell_type": "code",
   "execution_count": null,
   "metadata": {},
   "outputs": [],
   "source": [
    "# for anime_final_2: see comments at top\n",
    "# rmse = 2.1254230685892352 rank = 100, maxIter = 10, reg param = .1\n",
    "# rmse = 2.1058600851187363 rank = 100, maxiter = 15, regparam =.1\n",
    "# rmse = 2.0987042601431383 rank = 150, maxiter = 15, regparam = .1\n",
    "# rmse = 1.6232912469115457, rank 200, maxiter 17, regparam .1 <----- huge win, saved these train splits\n",
    "# rmse = 1.6143999936595663, rank 220, maxiter 18, regparam = .1 <------ bigger win, used a different split^\n",
    "# rmse = 2.102241385301613 rank 220, maxiter 18, regoaram .1, ? fluke check on what i thought were same train split as huge win. may have made error recombining in eda file\n",
    "# rmse = 2.0934816014194326, rank 200, maxiter 18, reparam.1, < 25-75 train test split\n",
    "# rmse = 2.1059523655991232 rank 200, maxiter 18 - another attempt, cant recreate early success for unknown reason\n",
    "# rmse = 2.084936624781888 rank 200, maxiter 18 - another attempt,\n",
    "rmse"
   ]
  },
  {
   "cell_type": "markdown",
   "metadata": {},
   "source": [
    "## losing sets"
   ]
  },
  {
   "cell_type": "code",
   "execution_count": 81,
   "metadata": {},
   "outputs": [
    {
     "data": {
      "application/vnd.jupyter.widget-view+json": {
       "model_id": "a9179baabe894510bc55c61a43cbd12b",
       "version_major": 2,
       "version_minor": 0
      },
      "text/plain": [
       "VBox()"
      ]
     },
     "metadata": {},
     "output_type": "display_data"
    },
    {
     "data": {
      "application/vnd.jupyter.widget-view+json": {
       "model_id": "",
       "version_major": 2,
       "version_minor": 0
      },
      "text/plain": [
       "FloatProgress(value=0.0, bar_style='info', description='Progress:', layout=Layout(height='25px', width='50%'),…"
      ]
     },
     "metadata": {},
     "output_type": "display_data"
    },
    {
     "name": "stdout",
     "output_type": "stream",
     "text": [
      "2.1800007704960653"
     ]
    }
   ],
   "source": [
    "# for anime_final: see comments above\n",
    "# rmse = 1.8450456842750507 on initial pass of data set, rank = default, maxIter = default, my_status <3, minimum watched >0\n",
    "# ^unrecreatable for some reason\n",
    "# rmse = 2.1858678093919712 on another pass, rank = 100, maxIter = 10, reg param = .1\n",
    "# rmse = 2.175129033735969 on rank = 250, maxIter = 10, regparam = .1\n",
    "# rmse =  2.1712464062761363 on rank 100, maxIter = 15, regparam = .1\n",
    "# rmse = 2.6971824770818507 on rank 100, maxIter = 10, reparam = .01\n",
    "# rmse = 2.1791087286348882, rank 120, maxiter = 11, regparam =.1\n",
    "\n",
    "rmse"
   ]
  },
  {
   "cell_type": "code",
   "execution_count": 24,
   "metadata": {},
   "outputs": [
    {
     "data": {
      "application/vnd.jupyter.widget-view+json": {
       "model_id": "9fbf6cb902d943dab5619e1c08beec3f",
       "version_major": 2,
       "version_minor": 0
      },
      "text/plain": [
       "VBox()"
      ]
     },
     "metadata": {},
     "output_type": "display_data"
    },
    {
     "data": {
      "application/vnd.jupyter.widget-view+json": {
       "model_id": "",
       "version_major": 2,
       "version_minor": 0
      },
      "text/plain": [
       "FloatProgress(value=0.0, bar_style='info', description='Progress:', layout=Layout(height='25px', width='50%'),…"
      ]
     },
     "metadata": {},
     "output_type": "display_data"
    },
    {
     "name": "stdout",
     "output_type": "stream",
     "text": [
      "2.0000903889660986"
     ]
    }
   ],
   "source": [
    "# for final_anime_3: see comments at top\n",
    "# rmse =1.9578590462477  rank 200, maxiter 17, regparam .1\n",
    "# rmse = 2.0000903889660986, rank 100, maxiter 10, regparam .1\n",
    "rmse"
   ]
  },
  {
   "cell_type": "markdown",
   "metadata": {},
   "source": [
    "## Saving things to s3"
   ]
  },
  {
   "cell_type": "code",
   "execution_count": 15,
   "metadata": {},
   "outputs": [
    {
     "data": {
      "application/vnd.jupyter.widget-view+json": {
       "model_id": "337e55970760477da65751a6c30673d5",
       "version_major": 2,
       "version_minor": 0
      },
      "text/plain": [
       "VBox()"
      ]
     },
     "metadata": {},
     "output_type": "display_data"
    },
    {
     "data": {
      "application/vnd.jupyter.widget-view+json": {
       "model_id": "",
       "version_major": 2,
       "version_minor": 0
      },
      "text/plain": [
       "FloatProgress(value=0.0, bar_style='info', description='Progress:', layout=Layout(height='25px', width='50%'),…"
      ]
     },
     "metadata": {},
     "output_type": "display_data"
    }
   ],
   "source": [
    "training=training.repartition(1)\n",
    "training.write.save(\"s3://myanimelist-recommender/final_anime_2_test.csv\", format='csv', header=True)\n",
    "testing = testing.repartition(1)\n",
    "testing.write.save(\"s3://myanimelist-recommender/final_anime_2_train.csv\", format='csv', header=True)"
   ]
  },
  {
   "cell_type": "code",
   "execution_count": 43,
   "metadata": {},
   "outputs": [
    {
     "data": {
      "application/vnd.jupyter.widget-view+json": {
       "model_id": "95cbbdf5134e4cc8a886b3f5c022ef0c",
       "version_major": 2,
       "version_minor": 0
      },
      "text/plain": [
       "VBox()"
      ]
     },
     "metadata": {},
     "output_type": "display_data"
    },
    {
     "data": {
      "application/vnd.jupyter.widget-view+json": {
       "model_id": "",
       "version_major": 2,
       "version_minor": 0
      },
      "text/plain": [
       "FloatProgress(value=0.0, bar_style='info', description='Progress:', layout=Layout(height='25px', width='50%'),…"
      ]
     },
     "metadata": {},
     "output_type": "display_data"
    }
   ],
   "source": [
    "preds=preds.repartition(1)\n",
    "preds.write.save(\"s3://myanimelist-recommender/predictions_example.csv\", format='csv', header=True)"
   ]
  },
  {
   "cell_type": "code",
   "execution_count": null,
   "metadata": {},
   "outputs": [],
   "source": [
    "model.save([spark_context], [file_path])\n"
   ]
  }
 ],
 "metadata": {
  "kernelspec": {
   "display_name": "PySpark",
   "language": "",
   "name": "pysparkkernel"
  },
  "language_info": {
   "codemirror_mode": {
    "name": "python",
    "version": 2
   },
   "mimetype": "text/x-python",
   "name": "pyspark",
   "pygments_lexer": "python2"
  }
 },
 "nbformat": 4,
 "nbformat_minor": 4
}
