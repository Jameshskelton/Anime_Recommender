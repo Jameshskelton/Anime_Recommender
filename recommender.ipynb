{
 "cells": [
  {
   "cell_type": "code",
   "execution_count": 1,
   "metadata": {},
   "outputs": [
    {
     "data": {
      "application/vnd.jupyter.widget-view+json": {
       "model_id": "646aa471e3df4f219ff824288fff7a71",
       "version_major": 2,
       "version_minor": 0
      },
      "text/plain": [
       "VBox()"
      ]
     },
     "metadata": {},
     "output_type": "display_data"
    },
    {
     "name": "stdout",
     "output_type": "stream",
     "text": [
      "Starting Spark application\n"
     ]
    },
    {
     "data": {
      "text/html": [
       "<table>\n",
       "<tr><th>ID</th><th>YARN Application ID</th><th>Kind</th><th>State</th><th>Spark UI</th><th>Driver log</th><th>Current session?</th></tr><tr><td>15</td><td>application_1582822548125_0018</td><td>pyspark</td><td>idle</td><td><a target=\"_blank\" href=\"http://ip-172-31-16-159.us-east-2.compute.internal:20888/proxy/application_1582822548125_0018/\">Link</a></td><td><a target=\"_blank\" href=\"http://ip-172-31-16-77.us-east-2.compute.internal:8042/node/containerlogs/container_1582822548125_0018_01_000001/livy\">Link</a></td><td>✔</td></tr></table>"
      ],
      "text/plain": [
       "<IPython.core.display.HTML object>"
      ]
     },
     "metadata": {},
     "output_type": "display_data"
    },
    {
     "data": {
      "application/vnd.jupyter.widget-view+json": {
       "model_id": "",
       "version_major": 2,
       "version_minor": 0
      },
      "text/plain": [
       "FloatProgress(value=0.0, bar_style='info', description='Progress:', layout=Layout(height='25px', width='50%'),…"
      ]
     },
     "metadata": {},
     "output_type": "display_data"
    },
    {
     "name": "stdout",
     "output_type": "stream",
     "text": [
      "SparkSession available as 'spark'.\n"
     ]
    },
    {
     "data": {
      "application/vnd.jupyter.widget-view+json": {
       "model_id": "",
       "version_major": 2,
       "version_minor": 0
      },
      "text/plain": [
       "FloatProgress(value=0.0, bar_style='info', description='Progress:', layout=Layout(height='25px', width='50%'),…"
      ]
     },
     "metadata": {},
     "output_type": "display_data"
    }
   ],
   "source": [
    "import pyspark as ps\n",
    "from pyspark.ml.evaluation import RegressionEvaluator\n",
    "from pyspark.ml.recommendation import ALS\n",
    "import pyspark.sql.functions as F\n",
    "from pyspark.sql.types import StructType, StructField\n",
    "from pyspark.sql.types import IntegerType, StringType, FloatType, DateType, TimestampType\n",
    "import pyspark.sql.functions as F\n",
    "from pyspark.mllib.evaluation import RegressionMetrics\n",
    "# from MatrixFactorizationModel"
   ]
  },
  {
   "cell_type": "code",
   "execution_count": 62,
   "metadata": {},
   "outputs": [
    {
     "data": {
      "application/vnd.jupyter.widget-view+json": {
       "model_id": "5777710b8c234795bec2950451d92b48",
       "version_major": 2,
       "version_minor": 0
      },
      "text/plain": [
       "VBox()"
      ]
     },
     "metadata": {},
     "output_type": "display_data"
    },
    {
     "data": {
      "application/vnd.jupyter.widget-view+json": {
       "model_id": "",
       "version_major": 2,
       "version_minor": 0
      },
      "text/plain": [
       "FloatProgress(value=0.0, bar_style='info', description='Progress:', layout=Layout(height='25px', width='50%'),…"
      ]
     },
     "metadata": {},
     "output_type": "display_data"
    }
   ],
   "source": [
    "user_test = spark.read.csv('s3://myanimelist-recommender/test_user_profile.csv', header = True)"
   ]
  },
  {
   "cell_type": "code",
   "execution_count": 2,
   "metadata": {},
   "outputs": [
    {
     "data": {
      "application/vnd.jupyter.widget-view+json": {
       "model_id": "8c3d20d8523d43139bbf2086de221150",
       "version_major": 2,
       "version_minor": 0
      },
      "text/plain": [
       "VBox()"
      ]
     },
     "metadata": {},
     "output_type": "display_data"
    },
    {
     "data": {
      "application/vnd.jupyter.widget-view+json": {
       "model_id": "",
       "version_major": 2,
       "version_minor": 0
      },
      "text/plain": [
       "FloatProgress(value=0.0, bar_style='info', description='Progress:', layout=Layout(height='25px', width='50%'),…"
      ]
     },
     "metadata": {},
     "output_type": "display_data"
    },
    {
     "name": "stderr",
     "output_type": "stream",
     "text": [
      "name 'user_test' is not defined\n",
      "Traceback (most recent call last):\n",
      "NameError: name 'user_test' is not defined\n",
      "\n"
     ]
    }
   ],
   "source": [
    "# user_test.show()\n",
    "user_test = user_test.withColumn(\"anime_id\", user_test.anime_id.cast(IntegerType()))\n",
    "user_test = user_test.withColumn(\"my_score\", user_test.my_score.cast(IntegerType()))\n",
    "user_test= user_test.withColumn(\"user_id\", user_test.user_id.cast(IntegerType()))\n",
    "user_test = user_test.withColumn(\"stats_mean_score\", user_test.stats_mean_score.cast(FloatType()))\n",
    "# data = data.withColumn(\"my_watched_episodes\", data.my_score.cast(IntegerType()))\n",
    "# data = data.withColumn(\"my_status\", data.my_score.cast(IntegerType()))\n",
    "user_test"
   ]
  },
  {
   "cell_type": "code",
   "execution_count": 22,
   "metadata": {},
   "outputs": [
    {
     "data": {
      "application/vnd.jupyter.widget-view+json": {
       "model_id": "1285594bdebb40c7ba499cdb2bb2aa87",
       "version_major": 2,
       "version_minor": 0
      },
      "text/plain": [
       "VBox()"
      ]
     },
     "metadata": {},
     "output_type": "display_data"
    },
    {
     "data": {
      "application/vnd.jupyter.widget-view+json": {
       "model_id": "",
       "version_major": 2,
       "version_minor": 0
      },
      "text/plain": [
       "FloatProgress(value=0.0, bar_style='info', description='Progress:', layout=Layout(height='25px', width='50%'),…"
      ]
     },
     "metadata": {},
     "output_type": "display_data"
    },
    {
     "name": "stdout",
     "output_type": "stream",
     "text": [
      "+---+--------+--------+--------+-------+----------------+-------------------+---------+\n",
      "|_c0|anime_id|username|my_score|user_id|stats_mean_score|my_watched_episodes|my_status|\n",
      "+---+--------+--------+--------+-------+----------------+-------------------+---------+\n",
      "|  0|      21|karthiga|       9|2255153|            7.43|                586|        1|\n",
      "|  1|      59|karthiga|       7|2255153|            7.43|                 26|        2|\n",
      "|  2|      74|karthiga|       7|2255153|            7.43|                 26|        2|\n",
      "|  3|     120|karthiga|       7|2255153|            7.43|                 26|        2|\n",
      "|  4|     178|karthiga|       7|2255153|            7.43|                 26|        2|\n",
      "|  5|     210|karthiga|       7|2255153|            7.43|                161|        2|\n",
      "|  6|     232|karthiga|       6|2255153|            7.43|                 70|        2|\n",
      "|  7|     233|karthiga|       6|2255153|            7.43|                 78|        2|\n",
      "|  8|     249|karthiga|       8|2255153|            7.43|                167|        2|\n",
      "|  9|     269|karthiga|      10|2255153|            7.43|                366|        2|\n",
      "| 10|     721|karthiga|       7|2255153|            7.43|                 38|        2|\n",
      "| 11|     853|karthiga|       7|2255153|            7.43|                 26|        2|\n",
      "| 12|     857|karthiga|      10|2255153|            7.43|                 25|        2|\n",
      "| 13|     957|karthiga|       8|2255153|            7.43|                 39|        2|\n",
      "| 14|     966|karthiga|      10|2255153|            7.43|                506|        1|\n",
      "| 15|    1557|karthiga|       8|2255153|            7.43|                 26|        2|\n",
      "| 16|    1571|karthiga|       8|2255153|            7.43|                 25|        2|\n",
      "| 17|    1579|karthiga|       9|2255153|            7.43|                 25|        2|\n",
      "| 18|    1698|karthiga|       7|2255153|            7.43|                 23|        2|\n",
      "| 19|    1735|karthiga|       9|2255153|            7.43|                303|        1|\n",
      "+---+--------+--------+--------+-------+----------------+-------------------+---------+\n",
      "only showing top 20 rows"
     ]
    }
   ],
   "source": [
    "# This is data iteration one: it is compprised of 21994566 rows × 8 columns (blank, anime_id, username, user_id, my_score, my_watched_episodes, my_status)\n",
    "# my status 1 - 3 only were used because they indicate 1: watching 2: completed 3: on hold 4: dropped 6: plan to watch\n",
    "# so only 1-3  were what i considered really relevant, as droppers probably dont have fully formed opinions\n",
    "\n",
    "# my_watched episodes was another metric i used to choose who to drop. anybody who had watched less than\n",
    "# 3 episodes of a show likely did not have what i would consider a fully formed opinion so they were dropped.\n",
    "\n",
    "# Furthermore, a large number of these made up the 0 ratings which were in overabundance\n",
    "data = spark.read.csv('s3://myanimelist-recommender/final_anime.csv', header = True)\n",
    "data.show()"
   ]
  },
  {
   "cell_type": "code",
   "execution_count": 5,
   "metadata": {},
   "outputs": [
    {
     "data": {
      "application/vnd.jupyter.widget-view+json": {
       "model_id": "87c27d22181a4856805171bf6e0de958",
       "version_major": 2,
       "version_minor": 0
      },
      "text/plain": [
       "VBox()"
      ]
     },
     "metadata": {},
     "output_type": "display_data"
    },
    {
     "data": {
      "application/vnd.jupyter.widget-view+json": {
       "model_id": "",
       "version_major": 2,
       "version_minor": 0
      },
      "text/plain": [
       "FloatProgress(value=0.0, bar_style='info', description='Progress:', layout=Layout(height='25px', width='50%'),…"
      ]
     },
     "metadata": {},
     "output_type": "display_data"
    },
    {
     "name": "stdout",
     "output_type": "stream",
     "text": [
      "15546712"
     ]
    }
   ],
   "source": [
    "data.count()"
   ]
  },
  {
   "cell_type": "code",
   "execution_count": 2,
   "metadata": {},
   "outputs": [
    {
     "data": {
      "application/vnd.jupyter.widget-view+json": {
       "model_id": "d01038ca24ce4f3d8911a3aa2526dc50",
       "version_major": 2,
       "version_minor": 0
      },
      "text/plain": [
       "VBox()"
      ]
     },
     "metadata": {},
     "output_type": "display_data"
    },
    {
     "data": {
      "application/vnd.jupyter.widget-view+json": {
       "model_id": "",
       "version_major": 2,
       "version_minor": 0
      },
      "text/plain": [
       "FloatProgress(value=0.0, bar_style='info', description='Progress:', layout=Layout(height='25px', width='50%'),…"
      ]
     },
     "metadata": {},
     "output_type": "display_data"
    },
    {
     "name": "stdout",
     "output_type": "stream",
     "text": [
      "15546712"
     ]
    }
   ],
   "source": [
    "# data iteration 2: it is one with similar conditions to the above, with the addition of\n",
    "# filtering out any user or anime with less than 5 reviews. This will hopefully increase the \n",
    "# overall effectiveness of the model despite removing data\n",
    "data = spark.read.csv('s3://myanimelist-recommender/final_anime_2.csv', header = True)\n",
    "data.count()"
   ]
  },
  {
   "cell_type": "code",
   "execution_count": 3,
   "metadata": {},
   "outputs": [
    {
     "data": {
      "application/vnd.jupyter.widget-view+json": {
       "model_id": "83224c9930694d51b1a5ac78a11a41aa",
       "version_major": 2,
       "version_minor": 0
      },
      "text/plain": [
       "VBox()"
      ]
     },
     "metadata": {},
     "output_type": "display_data"
    },
    {
     "data": {
      "application/vnd.jupyter.widget-view+json": {
       "model_id": "",
       "version_major": 2,
       "version_minor": 0
      },
      "text/plain": [
       "FloatProgress(value=0.0, bar_style='info', description='Progress:', layout=Layout(height='25px', width='50%'),…"
      ]
     },
     "metadata": {},
     "output_type": "display_data"
    },
    {
     "name": "stdout",
     "output_type": "stream",
     "text": [
      "+---+--------+--------+-------+----------------+\n",
      "|_c0|anime_id|my_score|user_id|stats_mean_score|\n",
      "+---+--------+--------+-------+----------------+\n",
      "|  0|      21|       9|2255153|            7.43|\n",
      "|  1|      59|       7|2255153|            7.43|\n",
      "|  2|      74|       7|2255153|            7.43|\n",
      "|  3|     120|       7|2255153|            7.43|\n",
      "|  4|     178|       7|2255153|            7.43|\n",
      "|  5|     210|       7|2255153|            7.43|\n",
      "|  6|     232|       6|2255153|            7.43|\n",
      "|  7|     233|       6|2255153|            7.43|\n",
      "|  8|     249|       8|2255153|            7.43|\n",
      "|  9|     269|      10|2255153|            7.43|\n",
      "| 10|     721|       7|2255153|            7.43|\n",
      "| 11|     853|       7|2255153|            7.43|\n",
      "| 12|     857|      10|2255153|            7.43|\n",
      "| 13|     957|       8|2255153|            7.43|\n",
      "| 14|     966|      10|2255153|            7.43|\n",
      "| 15|    1557|       8|2255153|            7.43|\n",
      "| 16|    1571|       8|2255153|            7.43|\n",
      "| 17|    1579|       9|2255153|            7.43|\n",
      "| 18|    1698|       7|2255153|            7.43|\n",
      "| 19|    1735|       9|2255153|            7.43|\n",
      "+---+--------+--------+-------+----------------+\n",
      "only showing top 20 rows"
     ]
    }
   ],
   "source": [
    "data = data.withColumn(\"anime_id\", data.anime_id.cast(IntegerType()))\n",
    "data = data.withColumn(\"user_id\", data.user_id.cast(IntegerType()))\n",
    "data = data.withColumn(\"my_score\", data.my_score.cast(IntegerType()))\n",
    "data = data.withColumn(\"stats_mean_score\", data.stats_mean_score.cast(FloatType()))\n",
    "# data = data.withColumn(\"my_watched_episodes\", data.my_score.cast(IntegerType()))\n",
    "# data = data.withColumn(\"my_status\", data.my_score.cast(IntegerType()))\n",
    "\n",
    "# data = data.drop('_c0')\n",
    "data.show()"
   ]
  },
  {
   "cell_type": "code",
   "execution_count": 2,
   "metadata": {},
   "outputs": [
    {
     "data": {
      "application/vnd.jupyter.widget-view+json": {
       "model_id": "47658e635aa04351904eb17a39cf7b96",
       "version_major": 2,
       "version_minor": 0
      },
      "text/plain": [
       "VBox()"
      ]
     },
     "metadata": {},
     "output_type": "display_data"
    },
    {
     "data": {
      "application/vnd.jupyter.widget-view+json": {
       "model_id": "",
       "version_major": 2,
       "version_minor": 0
      },
      "text/plain": [
       "FloatProgress(value=0.0, bar_style='info', description='Progress:', layout=Layout(height='25px', width='50%'),…"
      ]
     },
     "metadata": {},
     "output_type": "display_data"
    },
    {
     "name": "stdout",
     "output_type": "stream",
     "text": [
      "15022090"
     ]
    }
   ],
   "source": [
    "# This is data iteration three (final_anime_3.csv). In this, users and anime have been further filtered\n",
    "# only users who have rated >6 and anime that have been rated >6 times are included in this dataset. \n",
    "# otherwise it is the same as iteration 2. \n",
    "data = spark.read.csv('s3://myanimelist-recommender/anime_final_3.csv', header = True)\n",
    "data.count()\n"
   ]
  },
  {
   "cell_type": "code",
   "execution_count": 13,
   "metadata": {},
   "outputs": [
    {
     "data": {
      "application/vnd.jupyter.widget-view+json": {
       "model_id": "d8901c1393d1497ab840f16df9de8452",
       "version_major": 2,
       "version_minor": 0
      },
      "text/plain": [
       "VBox()"
      ]
     },
     "metadata": {},
     "output_type": "display_data"
    },
    {
     "data": {
      "application/vnd.jupyter.widget-view+json": {
       "model_id": "",
       "version_major": 2,
       "version_minor": 0
      },
      "text/plain": [
       "FloatProgress(value=0.0, bar_style='info', description='Progress:', layout=Layout(height='25px', width='50%'),…"
      ]
     },
     "metadata": {},
     "output_type": "display_data"
    },
    {
     "name": "stdout",
     "output_type": "stream",
     "text": [
      "+---+--------+--------+--------+-------+----------------+\n",
      "|_c0|anime_id|username|my_score|user_id|stats_mean_score|\n",
      "+---+--------+--------+--------+-------+----------------+\n",
      "|  0|      21|karthiga|       9|2255153|            7.43|\n",
      "|  1|      59|karthiga|       7|2255153|            7.43|\n",
      "|  2|      74|karthiga|       7|2255153|            7.43|\n",
      "|  3|     120|karthiga|       7|2255153|            7.43|\n",
      "|  4|     178|karthiga|       7|2255153|            7.43|\n",
      "|  5|     210|karthiga|       7|2255153|            7.43|\n",
      "|  6|     232|karthiga|       6|2255153|            7.43|\n",
      "|  7|     233|karthiga|       6|2255153|            7.43|\n",
      "|  8|     249|karthiga|       8|2255153|            7.43|\n",
      "|  9|     269|karthiga|      10|2255153|            7.43|\n",
      "| 10|     721|karthiga|       7|2255153|            7.43|\n",
      "| 11|     853|karthiga|       7|2255153|            7.43|\n",
      "| 12|     857|karthiga|      10|2255153|            7.43|\n",
      "| 13|     957|karthiga|       8|2255153|            7.43|\n",
      "| 14|     966|karthiga|      10|2255153|            7.43|\n",
      "| 15|    1557|karthiga|       8|2255153|            7.43|\n",
      "| 16|    1571|karthiga|       8|2255153|            7.43|\n",
      "| 17|    1579|karthiga|       9|2255153|            7.43|\n",
      "| 18|    1698|karthiga|       7|2255153|            7.43|\n",
      "| 19|    1735|karthiga|       9|2255153|            7.43|\n",
      "+---+--------+--------+--------+-------+----------------+\n",
      "only showing top 20 rows"
     ]
    }
   ],
   "source": [
    "data = data.withColumn(\"anime_id\", data.anime_id.cast(IntegerType()))\n",
    "data = data.withColumn(\"user_id\", data.user_id.cast(IntegerType()))\n",
    "data = data.withColumn(\"my_score\", data.my_score.cast(IntegerType()))\n",
    "data = data.withColumn(\"stats_mean_score\", data.stats_mean_score.cast(FloatType()))\n",
    "# data = data.withColumn(\"my_watched_episodes\", data.my_score.cast(IntegerType()))\n",
    "# data = data.withColumn(\"my_status\", data.my_score.cast(IntegerType()))\n",
    "\n",
    "# data = data.drop('_c0')\n",
    "# data = data.drop('my_watched_episodes')\n",
    "data = data.drop( 'my_status')\n",
    "data.show()\n"
   ]
  },
  {
   "cell_type": "code",
   "execution_count": 7,
   "metadata": {},
   "outputs": [
    {
     "data": {
      "application/vnd.jupyter.widget-view+json": {
       "model_id": "87435f9c415046f684feb5466bf71975",
       "version_major": 2,
       "version_minor": 0
      },
      "text/plain": [
       "VBox()"
      ]
     },
     "metadata": {},
     "output_type": "display_data"
    },
    {
     "data": {
      "application/vnd.jupyter.widget-view+json": {
       "model_id": "",
       "version_major": 2,
       "version_minor": 0
      },
      "text/plain": [
       "FloatProgress(value=0.0, bar_style='info', description='Progress:', layout=Layout(height='25px', width='50%'),…"
      ]
     },
     "metadata": {},
     "output_type": "display_data"
    },
    {
     "name": "stdout",
     "output_type": "stream",
     "text": [
      "10882696"
     ]
    }
   ],
   "source": [
    "training, testing = data.randomSplit([0.7, 0.3])\n",
    "\n",
    "# training = training.drop('_c0')\n",
    "# testing = testing.drop('_c0')\n",
    "training.count()"
   ]
  },
  {
   "cell_type": "code",
   "execution_count": 8,
   "metadata": {},
   "outputs": [
    {
     "data": {
      "application/vnd.jupyter.widget-view+json": {
       "model_id": "61c288c0d1ed484d81c865a0f564ab8f",
       "version_major": 2,
       "version_minor": 0
      },
      "text/plain": [
       "VBox()"
      ]
     },
     "metadata": {},
     "output_type": "display_data"
    },
    {
     "data": {
      "application/vnd.jupyter.widget-view+json": {
       "model_id": "",
       "version_major": 2,
       "version_minor": 0
      },
      "text/plain": [
       "FloatProgress(value=0.0, bar_style='info', description='Progress:', layout=Layout(height='25px', width='50%'),…"
      ]
     },
     "metadata": {},
     "output_type": "display_data"
    },
    {
     "name": "stdout",
     "output_type": "stream",
     "text": [
      "users in training: 106415\n",
      "users in testing: 105586\n",
      "users in both: 105516\n",
      "movies in training: 3644\n",
      "movies in testing: 3582\n",
      "movies in both: 3555"
     ]
    }
   ],
   "source": [
    "print(\"users in training: {}\".format(training.select('user_id').distinct().count()))\n",
    "print(\"users in testing: {}\".format(testing.select('user_id').distinct().count()))\n",
    "\n",
    "print(\"users in both: {}\".format(training.select('user_id').distinct()\\\n",
    "                                         .join(testing.select('user_id').distinct(),\n",
    "                                               'user_id', 'inner')\\\n",
    "                                         .count()))\n",
    "\n",
    "print(\"movies in training: {}\".format(training.select('anime_id').distinct().count()))\n",
    "print(\"movies in testing: {}\".format(testing.select('anime_id').distinct().count()))\n",
    "\n",
    "print(\"movies in both: {}\".format(training.select('anime_id').distinct()\\\n",
    "                                         .join(testing.select('anime_id').distinct(),\n",
    "                                               'anime_id', 'inner')\\\n",
    "                                         .count()))"
   ]
  },
  {
   "cell_type": "code",
   "execution_count": 14,
   "metadata": {},
   "outputs": [
    {
     "data": {
      "application/vnd.jupyter.widget-view+json": {
       "model_id": "d5f37a1f97bf42828860bd568b70bcee",
       "version_major": 2,
       "version_minor": 0
      },
      "text/plain": [
       "VBox()"
      ]
     },
     "metadata": {},
     "output_type": "display_data"
    },
    {
     "data": {
      "application/vnd.jupyter.widget-view+json": {
       "model_id": "",
       "version_major": 2,
       "version_minor": 0
      },
      "text/plain": [
       "FloatProgress(value=0.0, bar_style='info', description='Progress:', layout=Layout(height='25px', width='50%'),…"
      ]
     },
     "metadata": {},
     "output_type": "display_data"
    }
   ],
   "source": [
    "class MovieRecommender_loop1():\n",
    "    \"\"\"Loop 1 recommender (see notebooks/solns.ipynb)\n",
    "    Uses ALS out of the box\"\"\"\n",
    "    def fit(self, train_df):\n",
    "        self.als = ALS(rank=250,\n",
    "              maxIter=20,\n",
    "              regParam=0.1,\n",
    "              userCol=\"user_id\",\n",
    "              itemCol=\"anime_id\",\n",
    "              ratingCol=\"my_score\")\n",
    "\n",
    "        self.loop1_model = self.als.fit(train_df)\n",
    "\n",
    "    def transform(self, test_df):\n",
    "        return(self.loop1_model.transform(test_df))\n",
    "\n",
    "\n",
    "class MovieRecommender_loop2():\n",
    "    \"\"\"Loop 2 recommender (see notebooks/solns.ipynb)\n",
    "    Uses average per movie to fill up NaNs left by ALS\"\"\"\n",
    "    def fit(self, training_df):\n",
    "        self.avg_ratings = training_df.select('anime_id','my_score', 'stats_mean_score')\\\n",
    "                                      .groupBy('anime_id')\\\n",
    "                                      .agg(F.avg('my_score'))\\\n",
    "                                      .withColumnRenamed('avg(my_score)','avg_rating')\n",
    "\n",
    "    def transform(self, requests_df):\n",
    "        return(requests_df.join(self.avg_ratings, 'anime_id', 'left')\\\n",
    "                          .withColumnRenamed('avg_rating','prediction'))\n",
    "\n",
    "\n",
    "class AnimeRecommender(ALS):\n",
    "    \"\"\"Aggregated results from loop1 and loop2 (by coaleste)\"\"\"\n",
    "    def __init__(self):\n",
    "        self.spark = ps.sql.SparkSession.builder \\\n",
    "                    .master(\"local[4]\") \\\n",
    "                    .appName(\"df lecture\") \\\n",
    "                    .getOrCreate()\n",
    "        self.sc = self.spark.sparkContext  # for the pre-2.0 sparkContext\n",
    "        self.mr1 = MovieRecommender_loop1()\n",
    "        self.mr2 = MovieRecommender_loop2()\n",
    "\n",
    "\n",
    "    def fit(self, ratings):\n",
    "        \"\"\"\n",
    "        Trains the recommender on a given set of ratings.\n",
    "        Parameters\n",
    "        ----------\n",
    "        ratings : pandas dataframe, shape = (n_ratings, 4)\n",
    "                  with columns 'user', 'movie', 'rating', 'timestamp'\n",
    "        Returns\n",
    "        -------\n",
    "        self : object\n",
    "            Returns self.\n",
    "        \"\"\"\n",
    "        \n",
    "\n",
    "#         self.training = self.spark.createDataFrame(ratings)\n",
    "        self.training = ratings\n",
    "\n",
    "        self.training.persist()\n",
    "\n",
    "        self.mr1.fit(self.training)\n",
    "        self.mr2.fit(self.training)\n",
    "\n",
    "#         self.logger.debug(\"finishing fit\")\n",
    "        return(self)\n",
    "\n",
    "\n",
    "    def transform(self, requests):\n",
    "        \"\"\"\n",
    "        Predicts the ratings for a given set of requests.\n",
    "        Parameters\n",
    "        ----------\n",
    "        requests : pandas dataframe, shape = (n_ratings, 2)\n",
    "                  with columns 'user', 'movie'\n",
    "        Returns\n",
    "        -------\n",
    "        dataframe : a *pandas* dataframe with columns 'user', 'movie', 'rating'\n",
    "                    column 'rating' containing the predicted rating\n",
    "        \"\"\"\n",
    "\n",
    "#         self.requests = self.spark.createDataFrame(requests)\n",
    "        self.requests = requests\n",
    "\n",
    "        pred_loop1 = self.mr1.transform(self.requests).withColumnRenamed('prediction','prediction_loop1')\n",
    "        print(pred_loop1.show())\n",
    "        pred_loop2 = self.mr2.transform(pred_loop1).withColumnRenamed('prediction','prediction_loop2')\n",
    "# [anime_id, my_last_updated, user_id, prediction_loop2, prediction_loop1, my_score\n",
    "        print(pred_loop2.show())\n",
    "    \n",
    "        results_loop2 = pred_loop2.withColumn('prediction',F.when(F.isnan('prediction_loop1'),F.col('prediction_loop2')).otherwise(F.col('prediction_loop1')))\n",
    "#         results_loop2 = pred_loop2.withColumn('prediction',F.when(F.isnan('prediction_loop1'),F.col('stats_mean_score')).otherwise(F.col('prediction_loop1')))\n",
    "        print(results_loop2.show())\n",
    "        predictions = results_loop2.select('user_id', 'anime_id', 'my_score', 'prediction')\\\n",
    "                                   .withColumnRenamed('prediction','rating')\n",
    "\n",
    "        return(predictions)\n",
    "    \n",
    "    def evaluate(self, predictions):\n",
    "        evaluator = RegressionEvaluator(metricName=\"rmse\", labelCol=\"my_score\",predictionCol=\"rating\")\n",
    "        \n",
    "        rmse = evaluator.evaluate(preds)\n",
    "        return print(f'the rmse is {rmse}')"
   ]
  },
  {
   "cell_type": "code",
   "execution_count": null,
   "metadata": {},
   "outputs": [],
   "source": []
  },
  {
   "cell_type": "code",
   "execution_count": null,
   "metadata": {},
   "outputs": [
    {
     "data": {
      "application/vnd.jupyter.widget-view+json": {
       "model_id": "55229745f1e141a6a2c8fa802bbf7583",
       "version_major": 2,
       "version_minor": 0
      },
      "text/plain": [
       "VBox()"
      ]
     },
     "metadata": {},
     "output_type": "display_data"
    },
    {
     "data": {
      "application/vnd.jupyter.widget-view+json": {
       "model_id": "416219af69f14e7a855f0f04c14e21b7",
       "version_major": 2,
       "version_minor": 0
      },
      "text/plain": [
       "FloatProgress(value=0.0, bar_style='info', description='Progress:', layout=Layout(height='25px', width='50%'),…"
      ]
     },
     "metadata": {},
     "output_type": "display_data"
    },
    {
     "name": "stderr",
     "output_type": "stream",
     "text": [
      "An error was encountered:\n",
      "Invalid status code '404' from https://172.31.16.159:18888/sessions/15/statements/15 with error payload: {\"msg\":\"Session '15' not found.\"}\n"
     ]
    }
   ],
   "source": [
    "mr = AnimeRecommender()\n",
    "x = mr.fit(training)\n",
    "preds = mr.transform(testing)\n"
   ]
  },
  {
   "cell_type": "code",
   "execution_count": 11,
   "metadata": {},
   "outputs": [
    {
     "data": {
      "application/vnd.jupyter.widget-view+json": {
       "model_id": "0a3baa5aeee044029bae459e524dead4",
       "version_major": 2,
       "version_minor": 0
      },
      "text/plain": [
       "VBox()"
      ]
     },
     "metadata": {},
     "output_type": "display_data"
    },
    {
     "data": {
      "application/vnd.jupyter.widget-view+json": {
       "model_id": "",
       "version_major": 2,
       "version_minor": 0
      },
      "text/plain": [
       "FloatProgress(value=0.0, bar_style='info', description='Progress:', layout=Layout(height='25px', width='50%'),…"
      ]
     },
     "metadata": {},
     "output_type": "display_data"
    },
    {
     "name": "stdout",
     "output_type": "stream",
     "text": [
      "4664016\n",
      "4663996\n",
      "+-------+--------+--------+------------------+\n",
      "|user_id|anime_id|my_score|            rating|\n",
      "+-------+--------+--------+------------------+\n",
      "| 222730|     148|       8| 7.647821426391602|\n",
      "|   6825|     148|       7| 6.761627674102783|\n",
      "|  46781|     148|       7| 6.452243328094482|\n",
      "| 120976|     148|       9| 7.875185012817383|\n",
      "| 168196|     148|       8| 5.920736312866211|\n",
      "| 265959|     148|       7| 7.037248134613037|\n",
      "|2650907|     148|      10| 8.471237182617188|\n",
      "| 155228|     148|       8| 7.836144924163818|\n",
      "|   5926|     148|       0|1.0436757802963257|\n",
      "|  75439|     148|       7| 5.825883388519287|\n",
      "| 128607|     148|       5| 6.407979965209961|\n",
      "| 204921|     148|       7| 6.358741760253906|\n",
      "|   9029|     148|       9| 6.950005531311035|\n",
      "|  38098|     148|       9|  6.64668083190918|\n",
      "| 164515|     148|       6| 6.551913261413574|\n",
      "|  18819|     148|       7| 7.085896015167236|\n",
      "| 182092|     148|       8| 7.478772163391113|\n",
      "|  56880|     148|       6|   6.5108642578125|\n",
      "|  54205|     148|       7| 5.221917152404785|\n",
      "| 500437|     148|       6| 6.183760166168213|\n",
      "+-------+--------+--------+------------------+\n",
      "only showing top 20 rows"
     ]
    }
   ],
   "source": [
    "# preds = preds.withColumn(\"rating\", preds.rating.cast(FloatType()))\n",
    "print(preds.count())\n",
    "preds = preds.dropna(subset=('rating'))\n",
    "print(preds.count())\n",
    "preds.show()"
   ]
  },
  {
   "cell_type": "code",
   "execution_count": 12,
   "metadata": {},
   "outputs": [
    {
     "data": {
      "application/vnd.jupyter.widget-view+json": {
       "model_id": "49b11ac1f75c4548ac00cae7803ef4c5",
       "version_major": 2,
       "version_minor": 0
      },
      "text/plain": [
       "VBox()"
      ]
     },
     "metadata": {},
     "output_type": "display_data"
    },
    {
     "data": {
      "application/vnd.jupyter.widget-view+json": {
       "model_id": "",
       "version_major": 2,
       "version_minor": 0
      },
      "text/plain": [
       "FloatProgress(value=0.0, bar_style='info', description='Progress:', layout=Layout(height='25px', width='50%'),…"
      ]
     },
     "metadata": {},
     "output_type": "display_data"
    }
   ],
   "source": [
    "# cvgrid is not working, so ill do tuning by hand in the next cells\n",
    "evaluator = RegressionEvaluator(metricName=\"rmse\", labelCol=\"my_score\",predictionCol=\"rating\")\n",
    "        \n",
    "rmse = evaluator.evaluate(preds)\n"
   ]
  },
  {
   "cell_type": "code",
   "execution_count": 81,
   "metadata": {},
   "outputs": [
    {
     "data": {
      "application/vnd.jupyter.widget-view+json": {
       "model_id": "a9179baabe894510bc55c61a43cbd12b",
       "version_major": 2,
       "version_minor": 0
      },
      "text/plain": [
       "VBox()"
      ]
     },
     "metadata": {},
     "output_type": "display_data"
    },
    {
     "data": {
      "application/vnd.jupyter.widget-view+json": {
       "model_id": "",
       "version_major": 2,
       "version_minor": 0
      },
      "text/plain": [
       "FloatProgress(value=0.0, bar_style='info', description='Progress:', layout=Layout(height='25px', width='50%'),…"
      ]
     },
     "metadata": {},
     "output_type": "display_data"
    },
    {
     "name": "stdout",
     "output_type": "stream",
     "text": [
      "2.1800007704960653"
     ]
    }
   ],
   "source": [
    "# for anime_final: see comments above\n",
    "# rmse = 1.8450456842750507 on initial pass of data set, rank = default, maxIter = default, my_status <3, minimum watched >0\n",
    "# ^unrecreatable for some reason\n",
    "# rmse = 2.1858678093919712 on another pass, rank = 100, maxIter = 10, reg param = .1\n",
    "# rmse = 2.175129033735969 on rank = 250, maxIter = 10, regparam = .1\n",
    "# rmse =  2.1712464062761363 on rank 100, maxIter = 15, regparam = .1\n",
    "# rmse = 2.6971824770818507 on rank 100, maxIter = 10, reparam = .01\n",
    "# rmse = 2.1791087286348882, rank 120, maxiter = 11, regparam =.1\n",
    "\n",
    "rmse"
   ]
  },
  {
   "cell_type": "code",
   "execution_count": 13,
   "metadata": {},
   "outputs": [
    {
     "data": {
      "application/vnd.jupyter.widget-view+json": {
       "model_id": "cc173be4d09a4b92a034fa8be567f56c",
       "version_major": 2,
       "version_minor": 0
      },
      "text/plain": [
       "VBox()"
      ]
     },
     "metadata": {},
     "output_type": "display_data"
    },
    {
     "data": {
      "application/vnd.jupyter.widget-view+json": {
       "model_id": "",
       "version_major": 2,
       "version_minor": 0
      },
      "text/plain": [
       "FloatProgress(value=0.0, bar_style='info', description='Progress:', layout=Layout(height='25px', width='50%'),…"
      ]
     },
     "metadata": {},
     "output_type": "display_data"
    },
    {
     "name": "stdout",
     "output_type": "stream",
     "text": [
      "1.6143999936595663"
     ]
    }
   ],
   "source": [
    "# for anime_final_2: see comments at top\n",
    "# rmse = 2.1254230685892352 rank = 100, maxIter = 10, reg param = .1\n",
    "# rmse = 2.1058600851187363 rank = 100, maxiter = 15, regparam =.1\n",
    "# rmse = 2.0987042601431383 rank = 150, maxiter = 15, regparam = .1\n",
    "# rmse = 1.6232912469115457, rank 200, maxiter 17, regparam .1 <----- huge win, saved these train splits\n",
    "# rmse = 1.6143999936595663, rank 220, maxiter 18, reparam = .1 <------ bigger win, used a different split^\n",
    "# rmse = rank 250, maxiter 20, regoaram .1\n",
    "rmse"
   ]
  },
  {
   "cell_type": "code",
   "execution_count": 24,
   "metadata": {},
   "outputs": [
    {
     "data": {
      "application/vnd.jupyter.widget-view+json": {
       "model_id": "9fbf6cb902d943dab5619e1c08beec3f",
       "version_major": 2,
       "version_minor": 0
      },
      "text/plain": [
       "VBox()"
      ]
     },
     "metadata": {},
     "output_type": "display_data"
    },
    {
     "data": {
      "application/vnd.jupyter.widget-view+json": {
       "model_id": "",
       "version_major": 2,
       "version_minor": 0
      },
      "text/plain": [
       "FloatProgress(value=0.0, bar_style='info', description='Progress:', layout=Layout(height='25px', width='50%'),…"
      ]
     },
     "metadata": {},
     "output_type": "display_data"
    },
    {
     "name": "stdout",
     "output_type": "stream",
     "text": [
      "2.0000903889660986"
     ]
    }
   ],
   "source": [
    "# for final_anime_3: see comments at top\n",
    "# rmse =1.9578590462477  rank 200, maxiter 17, regparam .1\n",
    "# rmse = 2.0000903889660986, rank 100, maxiter 10, regparam .1\n",
    "rmse"
   ]
  },
  {
   "cell_type": "code",
   "execution_count": 15,
   "metadata": {},
   "outputs": [
    {
     "data": {
      "application/vnd.jupyter.widget-view+json": {
       "model_id": "337e55970760477da65751a6c30673d5",
       "version_major": 2,
       "version_minor": 0
      },
      "text/plain": [
       "VBox()"
      ]
     },
     "metadata": {},
     "output_type": "display_data"
    },
    {
     "data": {
      "application/vnd.jupyter.widget-view+json": {
       "model_id": "",
       "version_major": 2,
       "version_minor": 0
      },
      "text/plain": [
       "FloatProgress(value=0.0, bar_style='info', description='Progress:', layout=Layout(height='25px', width='50%'),…"
      ]
     },
     "metadata": {},
     "output_type": "display_data"
    }
   ],
   "source": [
    "training=training.repartition(1)\n",
    "training.write.save(\"s3://myanimelist-recommender/final_anime_2_test.csv\", format='csv', header=True)\n",
    "testiing = testing.repartition(1)\n",
    "testing.write.save(\"s3://myanimelist-recommender/final_anime_2_train.csv\", format='csv', header=True)"
   ]
  },
  {
   "cell_type": "code",
   "execution_count": 18,
   "metadata": {},
   "outputs": [
    {
     "data": {
      "application/vnd.jupyter.widget-view+json": {
       "model_id": "76b320a51f9149f4bb0064c3bf3f865e",
       "version_major": 2,
       "version_minor": 0
      },
      "text/plain": [
       "VBox()"
      ]
     },
     "metadata": {},
     "output_type": "display_data"
    },
    {
     "data": {
      "application/vnd.jupyter.widget-view+json": {
       "model_id": "",
       "version_major": 2,
       "version_minor": 0
      },
      "text/plain": [
       "FloatProgress(value=0.0, bar_style='info', description='Progress:', layout=Layout(height='25px', width='50%'),…"
      ]
     },
     "metadata": {},
     "output_type": "display_data"
    },
    {
     "name": "stdout",
     "output_type": "stream",
     "text": [
      "+--------+\n",
      "|anime_id|\n",
      "+--------+\n",
      "|     148|\n",
      "|     463|\n",
      "|     471|\n",
      "|     496|\n",
      "|     833|\n",
      "|    1088|\n",
      "|    1238|\n",
      "|    1580|\n",
      "|    1591|\n",
      "|    1829|\n",
      "|    1959|\n",
      "|    2142|\n",
      "|    2366|\n",
      "|    3918|\n",
      "|    4101|\n",
      "|    5300|\n",
      "|    6336|\n",
      "|    6658|\n",
      "|    8086|\n",
      "|    9465|\n",
      "+--------+\n",
      "only showing top 20 rows"
     ]
    }
   ],
   "source": [
    "preds.select(\"anime_id\").distinct().show()"
   ]
  },
  {
   "cell_type": "code",
   "execution_count": null,
   "metadata": {},
   "outputs": [],
   "source": [
    "model.save([spark_context], [file_path])\n"
   ]
  }
 ],
 "metadata": {
  "kernelspec": {
   "display_name": "PySpark",
   "language": "",
   "name": "pysparkkernel"
  },
  "language_info": {
   "codemirror_mode": {
    "name": "python",
    "version": 2
   },
   "mimetype": "text/x-python",
   "name": "pyspark",
   "pygments_lexer": "python2"
  }
 },
 "nbformat": 4,
 "nbformat_minor": 4
}
