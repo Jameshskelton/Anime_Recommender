{
 "cells": [
  {
   "cell_type": "code",
   "execution_count": 92,
   "metadata": {},
   "outputs": [
    {
     "data": {
      "application/vnd.jupyter.widget-view+json": {
       "model_id": "3267d057694c41c29e5e5a3b7b73c595",
       "version_major": 2,
       "version_minor": 0
      },
      "text/plain": [
       "VBox()"
      ]
     },
     "metadata": {},
     "output_type": "display_data"
    },
    {
     "data": {
      "application/vnd.jupyter.widget-view+json": {
       "model_id": "",
       "version_major": 2,
       "version_minor": 0
      },
      "text/plain": [
       "FloatProgress(value=0.0, bar_style='info', description='Progress:', layout=Layout(height='25px', width='50%'),…"
      ]
     },
     "metadata": {},
     "output_type": "display_data"
    }
   ],
   "source": [
    "import pyspark as ps\n",
    "from pyspark.ml.evaluation import RegressionEvaluator\n",
    "from pyspark.ml.recommendation import ALS\n",
    "import pyspark.sql.functions as F\n",
    "from pyspark.sql.types import StructType, StructField\n",
    "from pyspark.sql.types import IntegerType, StringType, FloatType, DateType, TimestampType\n",
    "import pyspark.sql.functions as F\n",
    "from pyspark.mllib.evaluation import RegressionMetrics\n",
    "# from MatrixFactorizationModel"
   ]
  },
  {
   "cell_type": "code",
   "execution_count": 62,
   "metadata": {},
   "outputs": [
    {
     "data": {
      "application/vnd.jupyter.widget-view+json": {
       "model_id": "5777710b8c234795bec2950451d92b48",
       "version_major": 2,
       "version_minor": 0
      },
      "text/plain": [
       "VBox()"
      ]
     },
     "metadata": {},
     "output_type": "display_data"
    },
    {
     "data": {
      "application/vnd.jupyter.widget-view+json": {
       "model_id": "",
       "version_major": 2,
       "version_minor": 0
      },
      "text/plain": [
       "FloatProgress(value=0.0, bar_style='info', description='Progress:', layout=Layout(height='25px', width='50%'),…"
      ]
     },
     "metadata": {},
     "output_type": "display_data"
    }
   ],
   "source": [
    "user_test = spark.read.csv('s3://myanimelist-recommender/test_user_profile.csv', header = True)"
   ]
  },
  {
   "cell_type": "code",
   "execution_count": 63,
   "metadata": {},
   "outputs": [
    {
     "data": {
      "application/vnd.jupyter.widget-view+json": {
       "model_id": "92a4256857534a2391164a9506ab9ae4",
       "version_major": 2,
       "version_minor": 0
      },
      "text/plain": [
       "VBox()"
      ]
     },
     "metadata": {},
     "output_type": "display_data"
    },
    {
     "data": {
      "application/vnd.jupyter.widget-view+json": {
       "model_id": "",
       "version_major": 2,
       "version_minor": 0
      },
      "text/plain": [
       "FloatProgress(value=0.0, bar_style='info', description='Progress:', layout=Layout(height='25px', width='50%'),…"
      ]
     },
     "metadata": {},
     "output_type": "display_data"
    },
    {
     "name": "stdout",
     "output_type": "stream",
     "text": [
      "DataFrame[_c0: string, anime_id: int, my_score: int, user_id: int, stats_mean_score: float]"
     ]
    }
   ],
   "source": [
    "# user_test.show()\n",
    "user_test = user_test.withColumn(\"anime_id\", user_test.anime_id.cast(IntegerType()))\n",
    "user_test = user_test.withColumn(\"my_score\", user_test.my_score.cast(IntegerType()))\n",
    "user_test= user_test.withColumn(\"user_id\", user_test.user_id.cast(IntegerType()))\n",
    "user_test = user_test.withColumn(\"stats_mean_score\", user_test.stats_mean_score.cast(FloatType()))\n",
    "# data = data.withColumn(\"my_watched_episodes\", data.my_score.cast(IntegerType()))\n",
    "# data = data.withColumn(\"my_status\", data.my_score.cast(IntegerType()))\n",
    "user_test"
   ]
  },
  {
   "cell_type": "code",
   "execution_count": 22,
   "metadata": {},
   "outputs": [
    {
     "data": {
      "application/vnd.jupyter.widget-view+json": {
       "model_id": "1285594bdebb40c7ba499cdb2bb2aa87",
       "version_major": 2,
       "version_minor": 0
      },
      "text/plain": [
       "VBox()"
      ]
     },
     "metadata": {},
     "output_type": "display_data"
    },
    {
     "data": {
      "application/vnd.jupyter.widget-view+json": {
       "model_id": "",
       "version_major": 2,
       "version_minor": 0
      },
      "text/plain": [
       "FloatProgress(value=0.0, bar_style='info', description='Progress:', layout=Layout(height='25px', width='50%'),…"
      ]
     },
     "metadata": {},
     "output_type": "display_data"
    },
    {
     "name": "stdout",
     "output_type": "stream",
     "text": [
      "+---+--------+--------+--------+-------+----------------+-------------------+---------+\n",
      "|_c0|anime_id|username|my_score|user_id|stats_mean_score|my_watched_episodes|my_status|\n",
      "+---+--------+--------+--------+-------+----------------+-------------------+---------+\n",
      "|  0|      21|karthiga|       9|2255153|            7.43|                586|        1|\n",
      "|  1|      59|karthiga|       7|2255153|            7.43|                 26|        2|\n",
      "|  2|      74|karthiga|       7|2255153|            7.43|                 26|        2|\n",
      "|  3|     120|karthiga|       7|2255153|            7.43|                 26|        2|\n",
      "|  4|     178|karthiga|       7|2255153|            7.43|                 26|        2|\n",
      "|  5|     210|karthiga|       7|2255153|            7.43|                161|        2|\n",
      "|  6|     232|karthiga|       6|2255153|            7.43|                 70|        2|\n",
      "|  7|     233|karthiga|       6|2255153|            7.43|                 78|        2|\n",
      "|  8|     249|karthiga|       8|2255153|            7.43|                167|        2|\n",
      "|  9|     269|karthiga|      10|2255153|            7.43|                366|        2|\n",
      "| 10|     721|karthiga|       7|2255153|            7.43|                 38|        2|\n",
      "| 11|     853|karthiga|       7|2255153|            7.43|                 26|        2|\n",
      "| 12|     857|karthiga|      10|2255153|            7.43|                 25|        2|\n",
      "| 13|     957|karthiga|       8|2255153|            7.43|                 39|        2|\n",
      "| 14|     966|karthiga|      10|2255153|            7.43|                506|        1|\n",
      "| 15|    1557|karthiga|       8|2255153|            7.43|                 26|        2|\n",
      "| 16|    1571|karthiga|       8|2255153|            7.43|                 25|        2|\n",
      "| 17|    1579|karthiga|       9|2255153|            7.43|                 25|        2|\n",
      "| 18|    1698|karthiga|       7|2255153|            7.43|                 23|        2|\n",
      "| 19|    1735|karthiga|       9|2255153|            7.43|                303|        1|\n",
      "+---+--------+--------+--------+-------+----------------+-------------------+---------+\n",
      "only showing top 20 rows"
     ]
    }
   ],
   "source": [
    "# This is data iteration one: it is compprised of 21994566 rows × 8 columns (blank, anime_id, username, user_id, my_score, my_watched_episodes, my_status)\n",
    "# my status 1 - 3 only were used because they indicate 1: watching 2: completed 3: on hold 4: dropped 6: plan to watch\n",
    "# so only 1-3  were what i considered really relevant, as droppers probably dont have fully formed opinions\n",
    "\n",
    "# my_watched episodes was another metric i used to choose who to drop. anybody who had watched less than\n",
    "# 3 episodes of a show likely did not have what i would consider a fully formed opinion so they were dropped.\n",
    "\n",
    "# Furthermore, a large number of these made up the 0 ratings which were in overabundance\n",
    "data = spark.read.csv('s3://myanimelist-recommender/final_anime.csv', header = True)\n",
    "data.show()"
   ]
  },
  {
   "cell_type": "code",
   "execution_count": 94,
   "metadata": {},
   "outputs": [
    {
     "data": {
      "application/vnd.jupyter.widget-view+json": {
       "model_id": "7912df683a444590a6a77b3bef038844",
       "version_major": 2,
       "version_minor": 0
      },
      "text/plain": [
       "VBox()"
      ]
     },
     "metadata": {},
     "output_type": "display_data"
    },
    {
     "data": {
      "application/vnd.jupyter.widget-view+json": {
       "model_id": "",
       "version_major": 2,
       "version_minor": 0
      },
      "text/plain": [
       "FloatProgress(value=0.0, bar_style='info', description='Progress:', layout=Layout(height='25px', width='50%'),…"
      ]
     },
     "metadata": {},
     "output_type": "display_data"
    },
    {
     "name": "stdout",
     "output_type": "stream",
     "text": [
      "+---+--------+--------+-------+----------------+\n",
      "|_c0|anime_id|my_score|user_id|stats_mean_score|\n",
      "+---+--------+--------+-------+----------------+\n",
      "|  0|      21|       9|2255153|            7.43|\n",
      "|  1|      59|       7|2255153|            7.43|\n",
      "|  2|      74|       7|2255153|            7.43|\n",
      "|  3|     120|       7|2255153|            7.43|\n",
      "|  4|     178|       7|2255153|            7.43|\n",
      "|  5|     210|       7|2255153|            7.43|\n",
      "|  6|     232|       6|2255153|            7.43|\n",
      "|  7|     233|       6|2255153|            7.43|\n",
      "|  8|     249|       8|2255153|            7.43|\n",
      "|  9|     269|      10|2255153|            7.43|\n",
      "| 10|     721|       7|2255153|            7.43|\n",
      "| 11|     853|       7|2255153|            7.43|\n",
      "| 12|     857|      10|2255153|            7.43|\n",
      "| 13|     957|       8|2255153|            7.43|\n",
      "| 14|     966|      10|2255153|            7.43|\n",
      "| 15|    1557|       8|2255153|            7.43|\n",
      "| 16|    1571|       8|2255153|            7.43|\n",
      "| 17|    1579|       9|2255153|            7.43|\n",
      "| 18|    1698|       7|2255153|            7.43|\n",
      "| 19|    1735|       9|2255153|            7.43|\n",
      "+---+--------+--------+-------+----------------+\n",
      "only showing top 20 rows"
     ]
    }
   ],
   "source": [
    "# data iteration 2: it is one with similar conditions to the above, with the addition of\n",
    "# filtering out any user or anime with less than 5 reviews. This will hopefully increase the \n",
    "# overall effectiveness of the model despite removing data\n",
    "data = spark.read.csv('s3://myanimelist-recommender/final_anime_2.csv', header = True)\n",
    "data.show()"
   ]
  },
  {
   "cell_type": "code",
   "execution_count": 95,
   "metadata": {},
   "outputs": [
    {
     "data": {
      "application/vnd.jupyter.widget-view+json": {
       "model_id": "3b81c996de5b40709dafd4d4981f0b72",
       "version_major": 2,
       "version_minor": 0
      },
      "text/plain": [
       "VBox()"
      ]
     },
     "metadata": {},
     "output_type": "display_data"
    },
    {
     "data": {
      "application/vnd.jupyter.widget-view+json": {
       "model_id": "",
       "version_major": 2,
       "version_minor": 0
      },
      "text/plain": [
       "FloatProgress(value=0.0, bar_style='info', description='Progress:', layout=Layout(height='25px', width='50%'),…"
      ]
     },
     "metadata": {},
     "output_type": "display_data"
    },
    {
     "name": "stdout",
     "output_type": "stream",
     "text": [
      "+---+--------+--------+-------+----------------+\n",
      "|_c0|anime_id|my_score|user_id|stats_mean_score|\n",
      "+---+--------+--------+-------+----------------+\n",
      "|  0|      21|       9|2255153|            7.43|\n",
      "|  1|      59|       7|2255153|            7.43|\n",
      "|  2|      74|       7|2255153|            7.43|\n",
      "|  3|     120|       7|2255153|            7.43|\n",
      "|  4|     178|       7|2255153|            7.43|\n",
      "|  5|     210|       7|2255153|            7.43|\n",
      "|  6|     232|       6|2255153|            7.43|\n",
      "|  7|     233|       6|2255153|            7.43|\n",
      "|  8|     249|       8|2255153|            7.43|\n",
      "|  9|     269|      10|2255153|            7.43|\n",
      "| 10|     721|       7|2255153|            7.43|\n",
      "| 11|     853|       7|2255153|            7.43|\n",
      "| 12|     857|      10|2255153|            7.43|\n",
      "| 13|     957|       8|2255153|            7.43|\n",
      "| 14|     966|      10|2255153|            7.43|\n",
      "| 15|    1557|       8|2255153|            7.43|\n",
      "| 16|    1571|       8|2255153|            7.43|\n",
      "| 17|    1579|       9|2255153|            7.43|\n",
      "| 18|    1698|       7|2255153|            7.43|\n",
      "| 19|    1735|       9|2255153|            7.43|\n",
      "+---+--------+--------+-------+----------------+\n",
      "only showing top 20 rows"
     ]
    }
   ],
   "source": [
    "data = data.withColumn(\"anime_id\", data.anime_id.cast(IntegerType()))\n",
    "data = data.withColumn(\"user_id\", data.user_id.cast(IntegerType()))\n",
    "data = data.withColumn(\"my_score\", data.my_score.cast(IntegerType()))\n",
    "data = data.withColumn(\"stats_mean_score\", data.stats_mean_score.cast(FloatType()))\n",
    "# data = data.withColumn(\"my_watched_episodes\", data.my_score.cast(IntegerType()))\n",
    "# data = data.withColumn(\"my_status\", data.my_score.cast(IntegerType()))\n",
    "\n",
    "# data = data.drop('_c0')\n",
    "data.show()"
   ]
  },
  {
   "cell_type": "code",
   "execution_count": 96,
   "metadata": {},
   "outputs": [
    {
     "data": {
      "application/vnd.jupyter.widget-view+json": {
       "model_id": "e9b117deab7c49ed9c0c821111a8cad5",
       "version_major": 2,
       "version_minor": 0
      },
      "text/plain": [
       "VBox()"
      ]
     },
     "metadata": {},
     "output_type": "display_data"
    },
    {
     "data": {
      "application/vnd.jupyter.widget-view+json": {
       "model_id": "",
       "version_major": 2,
       "version_minor": 0
      },
      "text/plain": [
       "FloatProgress(value=0.0, bar_style='info', description='Progress:', layout=Layout(height='25px', width='50%'),…"
      ]
     },
     "metadata": {},
     "output_type": "display_data"
    },
    {
     "name": "stdout",
     "output_type": "stream",
     "text": [
      "12437233"
     ]
    }
   ],
   "source": [
    "training, testing = data.randomSplit([0.8, 0.2])\n",
    "\n",
    "# training = training.drop('_c0')\n",
    "# testing = testing.drop('_c0')\n",
    "training.count()"
   ]
  },
  {
   "cell_type": "code",
   "execution_count": 97,
   "metadata": {},
   "outputs": [
    {
     "data": {
      "application/vnd.jupyter.widget-view+json": {
       "model_id": "5d8c8cd2f0d24611a0d4b22ff6822992",
       "version_major": 2,
       "version_minor": 0
      },
      "text/plain": [
       "VBox()"
      ]
     },
     "metadata": {},
     "output_type": "display_data"
    },
    {
     "data": {
      "application/vnd.jupyter.widget-view+json": {
       "model_id": "",
       "version_major": 2,
       "version_minor": 0
      },
      "text/plain": [
       "FloatProgress(value=0.0, bar_style='info', description='Progress:', layout=Layout(height='25px', width='50%'),…"
      ]
     },
     "metadata": {},
     "output_type": "display_data"
    },
    {
     "name": "stdout",
     "output_type": "stream",
     "text": [
      "users in training: 106455\n",
      "users in testing: 104510\n",
      "users in both: 104480\n",
      "movies in training: 3658\n",
      "movies in testing: 3533\n",
      "movies in both: 3520"
     ]
    }
   ],
   "source": [
    "print(\"users in training: {}\".format(training.select('user_id').distinct().count()))\n",
    "print(\"users in testing: {}\".format(testing.select('user_id').distinct().count()))\n",
    "\n",
    "print(\"users in both: {}\".format(training.select('user_id').distinct()\\\n",
    "                                         .join(testing.select('user_id').distinct(),\n",
    "                                               'user_id', 'inner')\\\n",
    "                                         .count()))\n",
    "\n",
    "print(\"movies in training: {}\".format(training.select('anime_id').distinct().count()))\n",
    "print(\"movies in testing: {}\".format(testing.select('anime_id').distinct().count()))\n",
    "\n",
    "print(\"movies in both: {}\".format(training.select('anime_id').distinct()\\\n",
    "                                         .join(testing.select('anime_id').distinct(),\n",
    "                                               'anime_id', 'inner')\\\n",
    "                                         .count()))"
   ]
  },
  {
   "cell_type": "code",
   "execution_count": 103,
   "metadata": {},
   "outputs": [
    {
     "data": {
      "application/vnd.jupyter.widget-view+json": {
       "model_id": "bd558b7ef0d848b592fe494f5c3002ad",
       "version_major": 2,
       "version_minor": 0
      },
      "text/plain": [
       "VBox()"
      ]
     },
     "metadata": {},
     "output_type": "display_data"
    },
    {
     "data": {
      "application/vnd.jupyter.widget-view+json": {
       "model_id": "",
       "version_major": 2,
       "version_minor": 0
      },
      "text/plain": [
       "FloatProgress(value=0.0, bar_style='info', description='Progress:', layout=Layout(height='25px', width='50%'),…"
      ]
     },
     "metadata": {},
     "output_type": "display_data"
    }
   ],
   "source": [
    "class MovieRecommender_loop1():\n",
    "    \"\"\"Loop 1 recommender (see notebooks/solns.ipynb)\n",
    "    Uses ALS out of the box\"\"\"\n",
    "    def fit(self, train_df):\n",
    "        self.als = ALS(rank=150,\n",
    "              maxIter=15,\n",
    "              regParam=0.1,\n",
    "              userCol=\"user_id\",\n",
    "              itemCol=\"anime_id\",\n",
    "              ratingCol=\"my_score\")\n",
    "\n",
    "        self.loop1_model = self.als.fit(train_df)\n",
    "\n",
    "    def transform(self, test_df):\n",
    "        return(self.loop1_model.transform(test_df))\n",
    "\n",
    "\n",
    "class MovieRecommender_loop2():\n",
    "    \"\"\"Loop 2 recommender (see notebooks/solns.ipynb)\n",
    "    Uses average per movie to fill up NaNs left by ALS\"\"\"\n",
    "    def fit(self, training_df):\n",
    "        self.avg_ratings = training_df.select('anime_id','my_score', 'stats_mean_score')\\\n",
    "                                      .groupBy('anime_id')\\\n",
    "                                      .agg(F.avg('my_score'))\\\n",
    "                                      .withColumnRenamed('avg(my_score)','avg_rating')\n",
    "\n",
    "    def transform(self, requests_df):\n",
    "        return(requests_df.join(self.avg_ratings, 'anime_id', 'left')\\\n",
    "                          .withColumnRenamed('avg_rating','prediction'))\n",
    "\n",
    "\n",
    "class AnimeRecommender(ALS):\n",
    "    \"\"\"Aggregated results from loop1 and loop2 (by coaleste)\"\"\"\n",
    "    def __init__(self):\n",
    "        self.spark = ps.sql.SparkSession.builder \\\n",
    "                    .master(\"local[4]\") \\\n",
    "                    .appName(\"df lecture\") \\\n",
    "                    .getOrCreate()\n",
    "        self.sc = self.spark.sparkContext  # for the pre-2.0 sparkContext\n",
    "        self.mr1 = MovieRecommender_loop1()\n",
    "        self.mr2 = MovieRecommender_loop2()\n",
    "\n",
    "\n",
    "    def fit(self, ratings):\n",
    "        \"\"\"\n",
    "        Trains the recommender on a given set of ratings.\n",
    "        Parameters\n",
    "        ----------\n",
    "        ratings : pandas dataframe, shape = (n_ratings, 4)\n",
    "                  with columns 'user', 'movie', 'rating', 'timestamp'\n",
    "        Returns\n",
    "        -------\n",
    "        self : object\n",
    "            Returns self.\n",
    "        \"\"\"\n",
    "        \n",
    "\n",
    "#         self.training = self.spark.createDataFrame(ratings)\n",
    "        self.training = ratings\n",
    "\n",
    "        self.training.persist()\n",
    "\n",
    "        self.mr1.fit(self.training)\n",
    "        self.mr2.fit(self.training)\n",
    "\n",
    "#         self.logger.debug(\"finishing fit\")\n",
    "        return(self)\n",
    "\n",
    "\n",
    "    def transform(self, requests):\n",
    "        \"\"\"\n",
    "        Predicts the ratings for a given set of requests.\n",
    "        Parameters\n",
    "        ----------\n",
    "        requests : pandas dataframe, shape = (n_ratings, 2)\n",
    "                  with columns 'user', 'movie'\n",
    "        Returns\n",
    "        -------\n",
    "        dataframe : a *pandas* dataframe with columns 'user', 'movie', 'rating'\n",
    "                    column 'rating' containing the predicted rating\n",
    "        \"\"\"\n",
    "\n",
    "#         self.requests = self.spark.createDataFrame(requests)\n",
    "        self.requests = requests\n",
    "\n",
    "        pred_loop1 = self.mr1.transform(self.requests).withColumnRenamed('prediction','prediction_loop1')\n",
    "        print(pred_loop1.show())\n",
    "        pred_loop2 = self.mr2.transform(pred_loop1).withColumnRenamed('prediction','prediction_loop2')\n",
    "# [anime_id, my_last_updated, user_id, prediction_loop2, prediction_loop1, my_score\n",
    "        print(pred_loop2.show())\n",
    "    \n",
    "        results_loop2 = pred_loop2.withColumn('prediction',F.when(F.isnan('prediction_loop1'),F.col('prediction_loop2')).otherwise(F.col('prediction_loop1')))\n",
    "#         results_loop2 = pred_loop2.withColumn('prediction',F.when(F.isnan('prediction_loop1'),F.col('stats_mean_score')).otherwise(F.col('prediction_loop1')))\n",
    "        print(results_loop2.show())\n",
    "        predictions = results_loop2.select('user_id', 'anime_id', 'my_score', 'prediction')\\\n",
    "                                   .withColumnRenamed('prediction','rating')\n",
    "\n",
    "        return(predictions)\n",
    "    \n",
    "    def evaluate(self, predictions):\n",
    "        evaluator = RegressionEvaluator(metricName=\"rmse\", labelCol=\"my_score\",predictionCol=\"rating\")\n",
    "        \n",
    "        rmse = evaluator.evaluate(preds)\n",
    "        return print(f'the rmse is {rmse}')"
   ]
  },
  {
   "cell_type": "code",
   "execution_count": null,
   "metadata": {},
   "outputs": [],
   "source": []
  },
  {
   "cell_type": "code",
   "execution_count": 104,
   "metadata": {},
   "outputs": [
    {
     "data": {
      "application/vnd.jupyter.widget-view+json": {
       "model_id": "ada48e0e0bf34ed397291afaa19bc943",
       "version_major": 2,
       "version_minor": 0
      },
      "text/plain": [
       "VBox()"
      ]
     },
     "metadata": {},
     "output_type": "display_data"
    },
    {
     "data": {
      "application/vnd.jupyter.widget-view+json": {
       "model_id": "",
       "version_major": 2,
       "version_minor": 0
      },
      "text/plain": [
       "FloatProgress(value=0.0, bar_style='info', description='Progress:', layout=Layout(height='25px', width='50%'),…"
      ]
     },
     "metadata": {},
     "output_type": "display_data"
    },
    {
     "name": "stdout",
     "output_type": "stream",
     "text": [
      "+--------+--------+--------+-------+----------------+----------------+\n",
      "|     _c0|anime_id|my_score|user_id|stats_mean_score|prediction_loop1|\n",
      "+--------+--------+--------+-------+----------------+----------------+\n",
      "| 5340083|     148|      10| 178467|            7.81|        6.583852|\n",
      "|14856483|     148|       0|   1005|             0.0|             0.0|\n",
      "| 2662989|     148|       7| 312632|            6.11|       6.5103106|\n",
      "|18034634|     148|       7|  75439|            7.64|         6.19228|\n",
      "|17723924|     148|       7| 119550|            6.29|        6.445637|\n",
      "|14368168|     148|       8| 265796|            8.03|       7.3729978|\n",
      "|17980576|     148|       6|  56880|            7.84|        6.001174|\n",
      "|10138903|     148|       6| 324387|            5.38|        4.978622|\n",
      "| 7361711|     148|       8| 170022|            7.91|       7.0140805|\n",
      "|16320123|     148|       6| 493238|            7.43|        6.635314|\n",
      "| 3971174|     148|       0|  53827|            8.04|      -0.2865292|\n",
      "| 4463106|     148|       7|2963377|            7.43|        7.063985|\n",
      "|15473957|     148|       0| 215400|            7.68|        6.226277|\n",
      "|13563421|     148|       4|  40245|            4.92|        4.789887|\n",
      "|13688587|     148|       8| 122853|            7.84|        6.802468|\n",
      "|14769376|     148|       0| 482260|            7.61|       2.7383523|\n",
      "|17572104|     148|       7| 351868|            8.77|        6.566556|\n",
      "| 3955117|     148|       8|  21949|            7.14|       6.4676123|\n",
      "| 3376079|     148|       7|1370193|            6.46|       6.1610975|\n",
      "|  969568|     148|       7| 612289|            6.34|       5.8929796|\n",
      "+--------+--------+--------+-------+----------------+----------------+\n",
      "only showing top 20 rows\n",
      "\n",
      "None\n",
      "+--------+--------+--------+-------+----------------+----------------+----------------+\n",
      "|anime_id|     _c0|my_score|user_id|stats_mean_score|prediction_loop1|prediction_loop2|\n",
      "+--------+--------+--------+-------+----------------+----------------+----------------+\n",
      "|     148| 5340083|      10| 178467|            7.81|        6.583852|           5.875|\n",
      "|     148|14856483|       0|   1005|             0.0|             0.0|           5.875|\n",
      "|     148| 2662989|       7| 312632|            6.11|       6.5103106|           5.875|\n",
      "|     148|15566216|      10|   2564|             8.7|       6.4060903|           5.875|\n",
      "|     148|14194348|       7| 275649|            6.88|       6.4384418|           5.875|\n",
      "|     148|19157901|       9|  38098|            7.21|       6.4438214|           5.875|\n",
      "|     148| 3971174|       0|  53827|            8.04|      -0.2865292|           5.875|\n",
      "|     148| 4463106|       7|2963377|            7.43|        7.063985|           5.875|\n",
      "|     148|12701899|       7| 211345|            8.27|        6.416213|           5.875|\n",
      "|     148|12627494|       6| 500437|            6.74|        5.934352|           5.875|\n",
      "|     148| 2697629|       7|   3886|            7.15|       7.3133745|           5.875|\n",
      "|     148| 3912948|       6| 145988|            8.32|       6.2832866|           5.875|\n",
      "|     148|15473957|       0| 215400|            7.68|        6.226277|           5.875|\n",
      "|     148|14769376|       0| 482260|            7.61|       2.7383523|           5.875|\n",
      "|     148|11499864|       5| 268612|             7.3|       7.0874496|           5.875|\n",
      "|     148|13090850|       8| 119344|            7.73|       7.2891436|           5.875|\n",
      "|     148|19517001|       5| 286245|            8.56|        7.685387|           5.875|\n",
      "|     148| 9517949|       6|1298995|             7.4|        6.286842|           5.875|\n",
      "|     148| 3195503|       4| 250690|            7.19|        4.501527|           5.875|\n",
      "|     148|14836976|       3|4878943|            7.67|       5.2302985|           5.875|\n",
      "+--------+--------+--------+-------+----------------+----------------+----------------+\n",
      "only showing top 20 rows\n",
      "\n",
      "None\n",
      "+--------+--------+--------+-------+----------------+----------------+----------------+------------------+\n",
      "|anime_id|     _c0|my_score|user_id|stats_mean_score|prediction_loop1|prediction_loop2|        prediction|\n",
      "+--------+--------+--------+-------+----------------+----------------+----------------+------------------+\n",
      "|     148|14856483|       0|   1005|             0.0|             0.0|           5.875|               0.0|\n",
      "|     148| 2662989|       7| 312632|            6.11|       6.5103106|           5.875| 6.510310649871826|\n",
      "|     148|15566216|      10|   2564|             8.7|       6.4060903|           5.875| 6.406090259552002|\n",
      "|     148|17723924|       7| 119550|            6.29|        6.445637|           5.875| 6.445637226104736|\n",
      "|     148|14368168|       8| 265796|            8.03|       7.3729978|           5.875| 7.372997760772705|\n",
      "|     148|19157901|       9|  38098|            7.21|       6.4438214|           5.875| 6.443821430206299|\n",
      "|     148|10138903|       6| 324387|            5.38|        4.978622|           5.875| 4.978621959686279|\n",
      "|     148| 7361711|       8| 170022|            7.91|       7.0140805|           5.875|  7.01408052444458|\n",
      "|     148|16320123|       6| 493238|            7.43|        6.635314|           5.875| 6.635313987731934|\n",
      "|     148| 2697629|       7|   3886|            7.15|       7.3133745|           5.875|7.3133745193481445|\n",
      "|     148| 3912948|       6| 145988|            8.32|       6.2832866|           5.875|6.2832865715026855|\n",
      "|     148| 2878989|       5| 185142|            6.56|        5.987937|           5.875| 5.987936973571777|\n",
      "|     148|15473957|       0| 215400|            7.68|        6.226277|           5.875| 6.226276874542236|\n",
      "|     148|13563421|       4|  40245|            4.92|        4.789887|           5.875| 4.789886951446533|\n",
      "|     148|13688587|       8| 122853|            7.84|        6.802468|           5.875|6.8024678230285645|\n",
      "|     148|16352727|       7| 223539|            7.26|       6.4659505|           5.875|6.4659504890441895|\n",
      "|     148|17572104|       7| 351868|            8.77|        6.566556|           5.875| 6.566555976867676|\n",
      "|     148| 3955117|       8|  21949|            7.14|       6.4676123|           5.875| 6.467612266540527|\n",
      "|     148| 3376079|       7|1370193|            6.46|       6.1610975|           5.875| 6.161097526550293|\n",
      "|     148|11499864|       5| 268612|             7.3|       7.0874496|           5.875| 7.087449550628662|\n",
      "+--------+--------+--------+-------+----------------+----------------+----------------+------------------+\n",
      "only showing top 20 rows\n",
      "\n",
      "None\n",
      "Exception ignored in: <object repr() failed>\n",
      "Traceback (most recent call last):\n",
      "  File \"/usr/lib/spark/python/lib/pyspark.zip/pyspark/ml/wrapper.py\", line 40, in __del__\n",
      "AttributeError: 'AnimeRecommender' object has no attribute '_java_obj'"
     ]
    }
   ],
   "source": [
    "mr = AnimeRecommender()\n",
    "x = mr.fit(training)\n",
    "preds = mr.transform(testing)\n"
   ]
  },
  {
   "cell_type": "code",
   "execution_count": 105,
   "metadata": {},
   "outputs": [
    {
     "data": {
      "application/vnd.jupyter.widget-view+json": {
       "model_id": "0a68912358da49f49a46164074ff9e3f",
       "version_major": 2,
       "version_minor": 0
      },
      "text/plain": [
       "VBox()"
      ]
     },
     "metadata": {},
     "output_type": "display_data"
    },
    {
     "data": {
      "application/vnd.jupyter.widget-view+json": {
       "model_id": "",
       "version_major": 2,
       "version_minor": 0
      },
      "text/plain": [
       "FloatProgress(value=0.0, bar_style='info', description='Progress:', layout=Layout(height='25px', width='50%'),…"
      ]
     },
     "metadata": {},
     "output_type": "display_data"
    },
    {
     "name": "stdout",
     "output_type": "stream",
     "text": [
      "+-------+--------+--------+------------------+\n",
      "|user_id|anime_id|my_score|            rating|\n",
      "+-------+--------+--------+------------------+\n",
      "|   2564|     148|      10| 6.406090259552002|\n",
      "|  56880|     148|       6| 6.001173973083496|\n",
      "| 211345|     148|       7| 6.416213035583496|\n",
      "| 500437|     148|       6| 5.934351921081543|\n",
      "|   3886|     148|       7|7.3133745193481445|\n",
      "| 145988|     148|       6|6.2832865715026855|\n",
      "| 185142|     148|       5| 5.987936973571777|\n",
      "| 215400|     148|       0| 6.226276874542236|\n",
      "|  40245|     148|       4| 4.789886951446533|\n",
      "| 122853|     148|       8|6.8024678230285645|\n",
      "| 223539|     148|       7|6.4659504890441895|\n",
      "| 351868|     148|       7| 6.566555976867676|\n",
      "| 268612|     148|       5| 7.087449550628662|\n",
      "|  23363|     148|       7|6.1067280769348145|\n",
      "|1298995|     148|       6| 6.286841869354248|\n",
      "|4878943|     148|       3|5.2302985191345215|\n",
      "| 218961|     148|       7| 6.293266296386719|\n",
      "|  36561|     148|       0| 4.796992301940918|\n",
      "|  97280|     148|       6|  6.74739408493042|\n",
      "|  22924|     148|       5| 6.314041614532471|\n",
      "+-------+--------+--------+------------------+\n",
      "only showing top 20 rows"
     ]
    }
   ],
   "source": [
    "# preds = preds.withColumn(\"rating\", preds.rating.cast(FloatType()))\n",
    "preds = preds.dropna(subset=('rating'))\n",
    "preds.show()"
   ]
  },
  {
   "cell_type": "code",
   "execution_count": 106,
   "metadata": {},
   "outputs": [
    {
     "data": {
      "application/vnd.jupyter.widget-view+json": {
       "model_id": "847a9dd752834d72be03418d3724f4eb",
       "version_major": 2,
       "version_minor": 0
      },
      "text/plain": [
       "VBox()"
      ]
     },
     "metadata": {},
     "output_type": "display_data"
    },
    {
     "data": {
      "application/vnd.jupyter.widget-view+json": {
       "model_id": "",
       "version_major": 2,
       "version_minor": 0
      },
      "text/plain": [
       "FloatProgress(value=0.0, bar_style='info', description='Progress:', layout=Layout(height='25px', width='50%'),…"
      ]
     },
     "metadata": {},
     "output_type": "display_data"
    }
   ],
   "source": [
    "evaluator = RegressionEvaluator(metricName=\"rmse\", labelCol=\"my_score\",predictionCol=\"rating\")\n",
    "        \n",
    "rmse = evaluator.evaluate(preds)\n"
   ]
  },
  {
   "cell_type": "code",
   "execution_count": 81,
   "metadata": {},
   "outputs": [
    {
     "data": {
      "application/vnd.jupyter.widget-view+json": {
       "model_id": "a9179baabe894510bc55c61a43cbd12b",
       "version_major": 2,
       "version_minor": 0
      },
      "text/plain": [
       "VBox()"
      ]
     },
     "metadata": {},
     "output_type": "display_data"
    },
    {
     "data": {
      "application/vnd.jupyter.widget-view+json": {
       "model_id": "",
       "version_major": 2,
       "version_minor": 0
      },
      "text/plain": [
       "FloatProgress(value=0.0, bar_style='info', description='Progress:', layout=Layout(height='25px', width='50%'),…"
      ]
     },
     "metadata": {},
     "output_type": "display_data"
    },
    {
     "name": "stdout",
     "output_type": "stream",
     "text": [
      "2.1800007704960653"
     ]
    }
   ],
   "source": [
    "# for anime_final: see comments above\n",
    "# rmse = 1.8450456842750507 on initial pass of data set, rank = default, maxIter = default, my_status <3, minimum watched >0\n",
    "# ^unrecreatable for some reason\n",
    "# rmse = 2.1858678093919712 on another pass, rank = 100, maxIter = 10, reg param = .1\n",
    "# rmse = 2.175129033735969 on rank = 250, maxIter = 10, regparam = .1\n",
    "# rmse =  2.1712464062761363 on rank 100, maxIter = 15, regparam = .1\n",
    "# rmse = 2.6971824770818507 on rank 100, maxIter = 10, reparam = .01\n",
    "# rmse = 2.1791087286348882, rank 120, maxiter = 11, regparam =.1\n",
    "\n",
    "rmse"
   ]
  },
  {
   "cell_type": "code",
   "execution_count": 107,
   "metadata": {},
   "outputs": [
    {
     "data": {
      "application/vnd.jupyter.widget-view+json": {
       "model_id": "0023490c415b41ae8c92d120d1830ac9",
       "version_major": 2,
       "version_minor": 0
      },
      "text/plain": [
       "VBox()"
      ]
     },
     "metadata": {},
     "output_type": "display_data"
    },
    {
     "data": {
      "application/vnd.jupyter.widget-view+json": {
       "model_id": "",
       "version_major": 2,
       "version_minor": 0
      },
      "text/plain": [
       "FloatProgress(value=0.0, bar_style='info', description='Progress:', layout=Layout(height='25px', width='50%'),…"
      ]
     },
     "metadata": {},
     "output_type": "display_data"
    },
    {
     "name": "stdout",
     "output_type": "stream",
     "text": [
      "2.0987042601431383"
     ]
    }
   ],
   "source": [
    "# for anime_final_2: see comments above\n",
    "# rmse = 2.1254230685892352 rank = 100, maxIter = 10, reg param = .1\n",
    "# rmse = 2.1058600851187363 rank = 100, maxiter = 15, regparam =.1\n",
    "rmse = 2.0987042601431383 rank = 150, maxiter = 15, regparam = .1"
   ]
  },
  {
   "cell_type": "code",
   "execution_count": 20,
   "metadata": {},
   "outputs": [
    {
     "data": {
      "application/vnd.jupyter.widget-view+json": {
       "model_id": "790194fec7fa4377a4c73f999693ce16",
       "version_major": 2,
       "version_minor": 0
      },
      "text/plain": [
       "VBox()"
      ]
     },
     "metadata": {},
     "output_type": "display_data"
    },
    {
     "data": {
      "application/vnd.jupyter.widget-view+json": {
       "model_id": "",
       "version_major": 2,
       "version_minor": 0
      },
      "text/plain": [
       "FloatProgress(value=0.0, bar_style='info', description='Progress:', layout=Layout(height='25px', width='50%'),…"
      ]
     },
     "metadata": {},
     "output_type": "display_data"
    }
   ],
   "source": [
    "preds=preds.repartition(1)\n",
    "preds.write.save(\"s3://myanimelist-recommender/final_preds_test.csv\", format='csv', header=True)\n"
   ]
  },
  {
   "cell_type": "code",
   "execution_count": 18,
   "metadata": {},
   "outputs": [
    {
     "data": {
      "application/vnd.jupyter.widget-view+json": {
       "model_id": "76b320a51f9149f4bb0064c3bf3f865e",
       "version_major": 2,
       "version_minor": 0
      },
      "text/plain": [
       "VBox()"
      ]
     },
     "metadata": {},
     "output_type": "display_data"
    },
    {
     "data": {
      "application/vnd.jupyter.widget-view+json": {
       "model_id": "",
       "version_major": 2,
       "version_minor": 0
      },
      "text/plain": [
       "FloatProgress(value=0.0, bar_style='info', description='Progress:', layout=Layout(height='25px', width='50%'),…"
      ]
     },
     "metadata": {},
     "output_type": "display_data"
    },
    {
     "name": "stdout",
     "output_type": "stream",
     "text": [
      "+--------+\n",
      "|anime_id|\n",
      "+--------+\n",
      "|     148|\n",
      "|     463|\n",
      "|     471|\n",
      "|     496|\n",
      "|     833|\n",
      "|    1088|\n",
      "|    1238|\n",
      "|    1580|\n",
      "|    1591|\n",
      "|    1829|\n",
      "|    1959|\n",
      "|    2142|\n",
      "|    2366|\n",
      "|    3918|\n",
      "|    4101|\n",
      "|    5300|\n",
      "|    6336|\n",
      "|    6658|\n",
      "|    8086|\n",
      "|    9465|\n",
      "+--------+\n",
      "only showing top 20 rows"
     ]
    }
   ],
   "source": [
    "preds.select(\"anime_id\").distinct().show()"
   ]
  },
  {
   "cell_type": "code",
   "execution_count": null,
   "metadata": {},
   "outputs": [],
   "source": []
  }
 ],
 "metadata": {
  "kernelspec": {
   "display_name": "PySpark",
   "language": "",
   "name": "pysparkkernel"
  },
  "language_info": {
   "codemirror_mode": {
    "name": "python",
    "version": 2
   },
   "mimetype": "text/x-python",
   "name": "pyspark",
   "pygments_lexer": "python2"
  }
 },
 "nbformat": 4,
 "nbformat_minor": 4
}
